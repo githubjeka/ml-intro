{
 "cells": [
  {
   "cell_type": "markdown",
   "metadata": {},
   "source": [
    "# Classification. Linear models and KNN"
   ]
  },
  {
   "cell_type": "code",
   "execution_count": 1,
   "metadata": {},
   "outputs": [],
   "source": [
    "import warnings\n",
    "\n",
    "warnings.simplefilter(action='ignore', category=FutureWarning)\n",
    "\n",
    "import os\n",
    "import numpy as np\n",
    "import pandas as pd\n",
    "import seaborn as sns\n",
    "import matplotlib.pyplot as plt"
   ]
  },
  {
   "cell_type": "code",
   "execution_count": 2,
   "metadata": {},
   "outputs": [],
   "source": [
    "from sklearn.pipeline import Pipeline\n",
    "from sklearn.compose import ColumnTransformer\n",
    "from sklearn.model_selection import train_test_split, cross_validate\n",
    "from sklearn.metrics import plot_confusion_matrix, accuracy_score\n",
    "from sklearn.neighbors import KNeighborsClassifier\n",
    "from sklearn.preprocessing import StandardScaler, OneHotEncoder"
   ]
  },
  {
   "cell_type": "markdown",
   "metadata": {},
   "source": [
    "## Part 1: Implementing Logistic Regression"
   ]
  },
  {
   "cell_type": "markdown",
   "metadata": {},
   "source": [
    "In this task you need to implement Logistic Regression with l2 regularization using gradient descent algorithm."
   ]
  },
  {
   "cell_type": "markdown",
   "metadata": {},
   "source": [
    "Logistic Regression loss:\n",
    "$$ L(w) = \\dfrac{1}{N}\\sum_{i=1}^N \\log(1 + e^{-\\langle w, x_i \\rangle y_i}) + \\frac{1}{2C} \\lVert w \\rVert^2  \\to \\min_w$$\n",
    "$$\\langle w, x_i \\rangle = \\sum_{j=1}^n w_{j}x_{ij} + w_{0},$$ $$ y_{i} \\in \\{-1, 1\\}$$ where $n$ is the number of features and $N$ is the number of samples."
   ]
  },
  {
   "cell_type": "markdown",
   "metadata": {},
   "source": [
    "Gradient descent step:\n",
    "$$w^{(t+1)} := w^{(t)} + \\dfrac{\\eta}{N}\\sum_{i=1}^N y_ix_i \\Big(1 - \\dfrac{1}{1 + exp(-\\langle w^{(t)}, x_i \\rangle y_i)}\\Big) - \\eta \\frac{1}{C} w,$$\n",
    "where $\\eta$ is the learning rate."
   ]
  },
  {
   "cell_type": "markdown",
   "metadata": {},
   "source": [
    "**(2 points)** Implement the algorithm and use it to classify the digits (https://scikit-learn.org/stable/modules/generated/sklearn.datasets.load_digits.html) into \"even\" and \"odd\" categories. \"Even\" and \"Odd\" classes  should correspond to {-1, 1} labels."
   ]
  },
  {
   "cell_type": "markdown",
   "metadata": {},
   "source": [
    "Stopping criteria: either the number of iterations exceeds *max_iter* or $||w^{(t+1)} - w^{(t)}||_2 < tol$."
   ]
  },
  {
   "cell_type": "code",
   "execution_count": 3,
   "metadata": {},
   "outputs": [],
   "source": [
    "from sklearn.exceptions import NotFittedError"
   ]
  },
  {
   "cell_type": "code",
   "execution_count": 4,
   "metadata": {
    "pycharm": {
     "name": "#%%\n"
    }
   },
   "outputs": [],
   "source": [
    "class CustomLogisticRegression:\n",
    "    _estimator_type = \"classifier\"\n",
    "\n",
    "    def __init__(self, eta=0.001, max_iter=1000, C=1.0, tol=1e-5, random_state=42, zero_init=False):\n",
    "        \"\"\"Logistic Regression classifier.\n",
    "\n",
    "        Args:\n",
    "            eta: float, default=0.001\n",
    "                Learning rate.\n",
    "            max_iter: int, default=1000\n",
    "                Maximum number of iterations taken for the solvers to converge.\n",
    "            C: float, default=1.0\n",
    "                Inverse of regularization strength; must be a positive float.\n",
    "                Smaller values specify stronger regularization.\n",
    "            tol: float, default=1e-5\n",
    "                Tolerance for stopping criteria.\n",
    "            random_state: int, default=42\n",
    "                Random state.\n",
    "            zero_init: bool, default=False\n",
    "                Zero weight initialization.\n",
    "        \"\"\"\n",
    "        self.eta = eta\n",
    "        self.max_iter = max_iter\n",
    "        self.C = C\n",
    "        self.tol = tol\n",
    "        self.random_state = np.random.RandomState(seed=random_state)\n",
    "        self.zero_init = zero_init\n",
    "\n",
    "    def get_sigmoid(self, X, weights):\n",
    "        \"\"\"Compute the sigmoid value.\"\"\"\n",
    "\n",
    "        # linear combinations of weights and sample features\n",
    "        # y = w_0 + w_1*x_1 + ... + w_n*x_n\n",
    "\n",
    "        result = []\n",
    "        for x in X:\n",
    "            wx = np.sum(weights @ x)\n",
    "            result.append(1 / (1 + np.exp(-wx)))\n",
    "        return result\n",
    "\n",
    "    def get_loss(self, x, weights, y):\n",
    "        \"\"\"Calculate the loss.\"\"\"\n",
    "        N_samples = x.shape[0]\n",
    "        n_features = x.shape[1]\n",
    "\n",
    "        sum = 0\n",
    "        for i in range(N_samples):\n",
    "            wx = np.zeros(n_features)\n",
    "            for j in range(1, n_features):\n",
    "                wx += weights[j] * x[i][j]\n",
    "            wx = np.sum(wx) + weights[0]\n",
    "            sum += np.log(1 + np.exp(-(wx * y[i])))\n",
    "        return sum / N_samples + np.linalg.norm(weights) / (2 * self.C)\n",
    "        # return sum / N_samples + 1 / (2 * self.C) * (np.sum(weights) ** 2)\n",
    "\n",
    "        # count = len(x)\n",
    "        # l2norm = np.sum(weights ** 2) ** 0.5\n",
    "        # wx = np.sum(x * weights[1:] + weights[0])\n",
    "        # sum_log = np.sum(np.log(1 + np.exp(-1 * wx * y)))\n",
    "        # reg_strength = 1 / (2 * self.C)\n",
    "        # return sum_log / count + reg_strength * l2norm\n",
    "\n",
    "    def fit(self, X, y):\n",
    "        \"\"\"Fit the model.\n",
    "\n",
    "        Args:\n",
    "            X: numpy array of shape (n_samples, n_features)\n",
    "            y: numpy array of shape (n_samples,)\n",
    "                Target vector.\n",
    "        \"\"\"\n",
    "        X_ext = np.hstack([np.ones((X.shape[0], 1)), X])  # a constant feature is included to handle intercept\n",
    "        num_features = X_ext.shape[1]\n",
    "        if self.zero_init:\n",
    "            self.weights_ = np.zeros(num_features)\n",
    "        else:\n",
    "            weight_threshold = 1.0 / (2 * num_features)\n",
    "            self.weights_ = self.random_state.uniform(low=-weight_threshold,\n",
    "                                                      high=weight_threshold,\n",
    "                                                      size=num_features)  # random weight initialization\n",
    "        N = X_ext.shape[0]\n",
    "        self.loss_history = [self.get_loss(X, self.weights_, y)]\n",
    "        for i in range(self.max_iter):\n",
    "            delta_grad = np.zeros(num_features)\n",
    "            for j in range(N):\n",
    "                delta_grad += X_ext[j] * y[j] * (1 - 1 / (1 + np.exp(-(self.weights_ @ X_ext[j] * y[j]))))\n",
    "            delta = self.weights_ / self.C - delta_grad / N\n",
    "            self.weights_ -= self.eta * delta\n",
    "            self.loss_history.append(self.get_loss(X, self.weights_, y))\n",
    "            # wx = np.sum(X @ self.weights_[1:]) + self.weights_[0]\n",
    "            # # wx = np.sum(X_ext @ self.weights_)\n",
    "            # exp = 1 - 1 / (1 + np.exp(-(self.weights_ @ X_ext.T @ y)))\n",
    "            # exp = 1 - 1 / (1 + np.exp(-(np.sum(y*wx))))\n",
    "            # delta = (y @ X_ext) * exp / len(y) - self.weights_ / self.C\n",
    "            # self.weights_ += self.eta * delta\n",
    "            # w(t+1)-w(t) = self.eta * delta\n",
    "            if np.linalg.norm(self.eta * delta) < self.tol:\n",
    "                break\n",
    "\n",
    "    def predict_proba(self, X):\n",
    "        \"\"\"Predict positive class probabilities.\n",
    "\n",
    "        Args:\n",
    "            X: numpy array of shape (n_samples, n_features)\n",
    "        Returns:\n",
    "            y: numpy array of shape (n_samples,)\n",
    "                Vector containing positive class probabilities.\n",
    "        \"\"\"\n",
    "        X_ext = np.hstack([np.ones((X.shape[0], 1)), X])\n",
    "        if hasattr(self, 'weights_'):\n",
    "            return self.get_sigmoid(X_ext, self.weights_)\n",
    "        else:\n",
    "            raise NotFittedError(\"CustomLogisticRegression instance is not fitted yet\")\n",
    "\n",
    "    def predict(self, X):\n",
    "        \"\"\"Predict classes.\n",
    "\n",
    "        Args:\n",
    "            X: numpy array of shape (n_samples, n_features)\n",
    "        Returns:\n",
    "            y: numpy array of shape (n_samples,)\n",
    "                Vector containing predicted class labels.\n",
    "        \"\"\"\n",
    "        return [1 if y >= 0.5 else -1 for y in self.predict_proba(X)]"
   ]
  },
  {
   "cell_type": "code",
   "execution_count": 5,
   "metadata": {
    "pycharm": {
     "name": "#%%\n"
    }
   },
   "outputs": [
    {
     "name": "stdout",
     "output_type": "stream",
     "text": [
      "[0, 1, 2, 3, 4, 5, 6, 7, 8, 9]\n"
     ]
    }
   ],
   "source": [
    "print(list(range(10)))"
   ]
  },
  {
   "cell_type": "code",
   "execution_count": 6,
   "metadata": {},
   "outputs": [],
   "source": [
    "from sklearn import datasets\n",
    "from sklearn import metrics"
   ]
  },
  {
   "cell_type": "code",
   "execution_count": 7,
   "metadata": {},
   "outputs": [
    {
     "data": {
      "text/plain": "<Figure size 720x360 with 21 Axes>",
      "image/png": "[encoded data removed]"
     },
     "metadata": {
      "needs_background": "light"
     },
     "output_type": "display_data"
    }
   ],
   "source": [
    "X, y = datasets.load_digits(n_class=10, return_X_y=True)\n",
    "\n",
    "_, axes = plt.subplots(nrows=3, ncols=7, figsize=(10, 5))\n",
    "for ax, image, label in zip(axes.flatten(), X, y):\n",
    "    ax.set_axis_off()\n",
    "    ax.imshow(image.reshape((8, 8)), cmap=plt.cm.gray_r if label % 2 else plt.cm.afmhot_r)\n",
    "    ax.set_title(label)\n",
    "\n",
    "X_train, X_test, y_train, y_test = train_test_split(X, y, test_size=0.2, shuffle=True, random_state=42)\n",
    "#y_train = \"<your code>\"\n",
    "#y_test = \"<your code>\"\n",
    "y_train = (y_train % 2) * 2 - 1\n",
    "y_test = (y_test % 2) * 2 - 1"
   ]
  },
  {
   "cell_type": "code",
   "execution_count": 8,
   "metadata": {},
   "outputs": [],
   "source": [
    "assert (np.unique(y_train) == [-1, 1]).all()\n",
    "assert (np.unique(y_test) == [-1, 1]).all()"
   ]
  },
  {
   "cell_type": "code",
   "execution_count": 9,
   "metadata": {},
   "outputs": [],
   "source": [
    "def fit_evaluate(clf, X_train, y_train, X_test, y_test):\n",
    "    clf.fit(X_train, y_train)\n",
    "    disp = metrics.plot_confusion_matrix(clf, X_test, y_test, normalize='true')\n",
    "    disp.figure_.suptitle(\"Confusion Matrix\")\n",
    "    plt.show()\n",
    "\n",
    "    acc_train = metrics.accuracy_score(y_pred=clf.predict(X_train), y_true=y_train)\n",
    "    acc_test = metrics.accuracy_score(y_pred=clf.predict(X_test), y_true=y_test)\n",
    "\n",
    "    return acc_train, acc_test"
   ]
  },
  {
   "cell_type": "code",
   "execution_count": 10,
   "metadata": {},
   "outputs": [],
   "source": [
    "lr_clf = CustomLogisticRegression(max_iter=1, zero_init=True)"
   ]
  },
  {
   "cell_type": "code",
   "execution_count": 11,
   "metadata": {},
   "outputs": [],
   "source": [
    "assert np.allclose(lr_clf.get_sigmoid(np.array([[0.5, 0, 1.0], [0.3, 1.3, 1.0]]), np.array([0.5, -0.5, 0.1])),\n",
    "                   np.array([0.58662, 0.40131]))"
   ]
  },
  {
   "cell_type": "code",
   "execution_count": 12,
   "metadata": {},
   "outputs": [],
   "source": [
    "lr_clf.fit(X_train, y_train)"
   ]
  },
  {
   "cell_type": "code",
   "execution_count": 13,
   "metadata": {},
   "outputs": [],
   "source": [
    "assert np.allclose(lr_clf.weights_, np.array([3.1000e-06, 0.0000e+00, 4.1800e-05, 5.4770e-04, 2.2130e-04,\n",
    "                                              4.8750e-04, 1.3577e-03, 5.9780e-04, 5.6400e-05, -7.0000e-07,\n",
    "                                              1.6910e-04, 2.5190e-04, -4.3700e-04, 3.6190e-04, 1.0049e-03,\n",
    "                                              4.2280e-04, 2.5700e-05, 3.0000e-07, -1.1500e-05, -7.2440e-04,\n",
    "                                              -2.6200e-04, 8.7540e-04, 4.1540e-04, -8.4200e-05, -5.2000e-06,\n",
    "                                              0.0000e+00, -2.2160e-04, -5.7130e-04, 9.8570e-04, 1.3507e-03,\n",
    "                                              5.0210e-04, -1.7050e-04, -1.0000e-06, 0.0000e+00, -6.7810e-04,\n",
    "                                              -1.0515e-03, -4.4500e-05, 3.7160e-04, 4.2100e-04, -8.1800e-05,\n",
    "                                              0.0000e+00, -5.2000e-06, -5.3410e-04, -2.0393e-03, -8.4310e-04,\n",
    "                                              1.0400e-04, -1.2390e-04, -1.7880e-04, -1.3200e-05, -4.5000e-06,\n",
    "                                              -9.4300e-05, -1.1127e-03, -5.0900e-04, -2.1850e-04, -5.6050e-04,\n",
    "                                              -3.9560e-04, -1.7700e-05, -3.0000e-07, 2.6800e-05, 6.3920e-04,\n",
    "                                              1.8090e-04, -7.3660e-04, -5.3930e-04, -3.7060e-04, -2.8200e-05]),\n",
    "                   atol=1e-5)"
   ]
  },
  {
   "cell_type": "code",
   "execution_count": 14,
   "metadata": {},
   "outputs": [],
   "source": [
    "model = CustomLogisticRegression()"
   ]
  },
  {
   "cell_type": "code",
   "execution_count": 15,
   "metadata": {},
   "outputs": [
    {
     "data": {
      "text/plain": "<Figure size 432x288 with 2 Axes>",
      "image/png": "[encoded data removed]"
     },
     "metadata": {
      "needs_background": "light"
     },
     "output_type": "display_data"
    }
   ],
   "source": [
    "train_acc, test_acc = fit_evaluate(model, X_train, y_train, X_test, y_test)"
   ]
  },
  {
   "cell_type": "code",
   "execution_count": 16,
   "metadata": {},
   "outputs": [
    {
     "data": {
      "text/plain": "(0.9109255393180237, 0.9388888888888889)"
     },
     "execution_count": 16,
     "metadata": {},
     "output_type": "execute_result"
    }
   ],
   "source": [
    "train_acc, test_acc"
   ]
  },
  {
   "cell_type": "code",
   "execution_count": 17,
   "metadata": {},
   "outputs": [],
   "source": [
    "assert min(train_acc, test_acc) > 0.9"
   ]
  },
  {
   "cell_type": "markdown",
   "metadata": {},
   "source": [
    "**(0.5 points)** Visualize the loss history."
   ]
  },
  {
   "cell_type": "code",
   "execution_count": 18,
   "metadata": {
    "pycharm": {
     "name": "#%%\n"
    }
   },
   "outputs": [
    {
     "data": {
      "text/plain": "Text(0, 0.5, 'logloss')"
     },
     "execution_count": 18,
     "metadata": {},
     "output_type": "execute_result"
    },
    {
     "data": {
      "text/plain": "<Figure size 432x288 with 1 Axes>",
      "image/png": "[encoded data removed]"
     },
     "metadata": {
      "needs_background": "light"
     },
     "output_type": "display_data"
    }
   ],
   "source": [
    "## your code\n",
    "model = CustomLogisticRegression(max_iter=1000)\n",
    "model.fit(X_train, y_train)\n",
    "sns.lineplot(data=model.loss_history)\n",
    "plt.xlabel('кол. итераций')\n",
    "plt.ylabel('logloss')"
   ]
  },
  {
   "cell_type": "markdown",
   "metadata": {},
   "source": [
    "**(0.5 points)** Try different learning rates and compare the results. How does the learning rate influence the convergence?"
   ]
  },
  {
   "cell_type": "code",
   "execution_count": 19,
   "metadata": {},
   "outputs": [
    {
     "data": {
      "text/plain": "<Figure size 432x288 with 1 Axes>",
      "image/png": "[encoded data removed]"
     },
     "metadata": {
      "needs_background": "light"
     },
     "output_type": "display_data"
    }
   ],
   "source": [
    "eta_variants = [0.002, 0.001, 0.000_1, 0.000_01, 0.000_001]\n",
    "for eta in eta_variants:\n",
    "    model = CustomLogisticRegression(eta=eta, max_iter=100)\n",
    "    model.fit(X_train, y_train)\n",
    "    sns.lineplot(data=model.loss_history)\n",
    "    plt.legend(eta_variants)\n",
    "    plt.xlabel('кол. итераций')\n",
    "    plt.ylabel('logloss')"
   ]
  },
  {
   "cell_type": "markdown",
   "metadata": {},
   "source": [
    "С уменьшением $\\eta$ (learning rate) требуется больше количество итераций для того, чтобы достичь наименьшего значения logloss. При $\\eta= 0.000001$ мы упираемся в параметр tol (Tolerance for stopping criteria)\n"
   ]
  },
  {
   "cell_type": "markdown",
   "metadata": {},
   "source": [
    "**(0.5 points)** Try different regularization parameter values and compare the model quality."
   ]
  },
  {
   "cell_type": "code",
   "execution_count": 20,
   "metadata": {},
   "outputs": [
    {
     "data": {
      "text/plain": "<Figure size 432x288 with 1 Axes>",
      "image/png": "[encoded data removed]"
     },
     "metadata": {
      "needs_background": "light"
     },
     "output_type": "display_data"
    }
   ],
   "source": [
    "c_variants = [1, 0.5, 0.1]\n",
    "for C in c_variants:\n",
    "    model = CustomLogisticRegression(C=C, max_iter=100)\n",
    "    model.fit(X_train, y_train)\n",
    "    sns.lineplot(data=model.loss_history)\n",
    "    plt.legend(c_variants)\n",
    "    plt.xlabel('кол. итераций')\n",
    "    plt.ylabel('logloss')"
   ]
  },
  {
   "cell_type": "markdown",
   "metadata": {},
   "source": [
    "C: float, default=1.0\n",
    "Inverse of regularization strength; must be a positive float.\n",
    "Smaller values specify stronger regularization.\n",
    "\n",
    "Часть формулы\n",
    "\n",
    "$\\eta \\frac{1}{C} w,$\n",
    "\n",
    "С увеличением силы регуляризация $C$ максимальное значение logloss уменьшается"
   ]
  },
  {
   "cell_type": "markdown",
   "metadata": {},
   "source": [
    "**(0.5 points)** Compare zero initialization and random initialization. "
   ]
  },
  {
   "cell_type": "code",
   "execution_count": 21,
   "metadata": {},
   "outputs": [
    {
     "name": "stdout",
     "output_type": "stream",
     "text": [
      "False 0.8643006263048016 0.8833333333333333 0.8810810810810811 0.8907103825136612\n",
      "True 0.8636047320807237 0.8861111111111111 0.8817204301075269 0.8961748633879781\n"
     ]
    },
    {
     "data": {
      "text/plain": "<Figure size 432x288 with 1 Axes>",
      "image/png": "[encoded data removed]"
     },
     "metadata": {
      "needs_background": "light"
     },
     "output_type": "display_data"
    }
   ],
   "source": [
    "zero_variants = [False, True]\n",
    "for zero_init_value in zero_variants:\n",
    "    model = CustomLogisticRegression(zero_init=zero_init_value, max_iter=40)\n",
    "    model.fit(X_train, y_train)\n",
    "    acc_train = metrics.accuracy_score(y_pred=model.predict(X_train), y_true=y_train)\n",
    "    acc_test = metrics.accuracy_score(y_pred=model.predict(X_test), y_true=y_test)\n",
    "    precision_test = metrics.precision_score(y_pred=model.predict(X_test), y_true=y_test)\n",
    "    recall_test = metrics.recall_score(y_pred=model.predict(X_test), y_true=y_test)\n",
    "    print(zero_init_value, acc_train, acc_test, precision_test, recall_test)\n",
    "\n",
    "    sns.lineplot(data=model.loss_history)\n",
    "    plt.legend(zero_variants)\n",
    "    plt.xlabel('кол. итераций')\n",
    "    plt.ylabel('logloss')"
   ]
  },
  {
   "cell_type": "markdown",
   "metadata": {},
   "source": [
    "zero_init: bool, default=False Zero weight initialization.\n",
    "При обнулённых инициализированных весах, logloss логарифмически растёт с единицы, при увеличении итераций. При случайном наборе начальных весов, можно увидеть оптимальное количество итераций при которых logloss минимален."
   ]
  },
  {
   "cell_type": "markdown",
   "metadata": {},
   "source": [
    "## Part 2: Implementing KNN Classifier"
   ]
  },
  {
   "cell_type": "markdown",
   "metadata": {},
   "source": [
    "In this task you need to implement weighted K-Neighbors Classifier."
   ]
  },
  {
   "cell_type": "markdown",
   "metadata": {},
   "source": [
    "Recall that training a KNN classifier is simply memorizing a training sample. \n",
    "\n",
    "The process of applying a classifier for one object is to find the distances from it to all objects in the training data, then select the k nearest objects (neighbors) and return the most common class among these objects."
   ]
  },
  {
   "cell_type": "markdown",
   "metadata": {},
   "source": [
    "You can also give the nearest neighbors weights in accordance with the distance of the object to them. In the simplest case (as in your assignment), you can set the weights inversely proportional to that distance. \n",
    "\n",
    "$$w_{i} = \\frac{1}{d_{i} + eps},$$\n",
    "\n",
    "where $d_{i}$ is the distance between object and i-th nearest neighbor and $eps$ is the small value to prevent division by zero.\n",
    "\n",
    "In case of 'uniform' weights, all k nearest neighbors are equivalent (have equal weight, for example $w_{i} = 1, \\forall i \\in(1,k)$)."
   ]
  },
  {
   "cell_type": "markdown",
   "metadata": {},
   "source": [
    "To predict the probability of classes, it is necessary to normalize the weights of each class, dividing them by the sum:\n",
    "\n",
    "$$p_{i} = \\frac{w_{i}}{\\sum_{j=1}^{c}w_{j}},$$\n",
    "\n",
    "where $p_i$ is probability of i-th class and $c$ is the number of classes."
   ]
  },
  {
   "cell_type": "markdown",
   "metadata": {},
   "source": [
    "**(2 points)** Implement the algorithm and use it to classify the digits. By implementing this algorithm, you will be able to classify numbers not only into \"even\" or \"odd\", but into their real representation."
   ]
  },
  {
   "cell_type": "code",
   "execution_count": 22,
   "metadata": {},
   "outputs": [],
   "source": [
    "class CustomKNeighborsClassifier:\n",
    "    _estimator_type = \"classifier\"\n",
    "\n",
    "    def __init__(self, n_neighbors=5, weights='uniform', eps=1e-9):\n",
    "        \"\"\"K-Nearest Neighbors classifier.\n",
    "        \n",
    "        Args:\n",
    "            n_neighbors: int, default=5\n",
    "                Number of neighbors to use by default for :meth:`kneighbors` queries.\n",
    "            weights : {'uniform', 'distance'} or callable, default='uniform'\n",
    "                Weight function used in prediction.  Possible values:\n",
    "                - 'uniform' : uniform weights.  All points in each neighborhood\n",
    "                  are weighted equally.\n",
    "                - 'distance' : weight points by the inverse of their distance.\n",
    "                  in this case, closer neighbors of a query point will have a\n",
    "                  greater influence than neighbors which are further away.\n",
    "            eps : float, default=1e-5\n",
    "                Epsilon to prevent division by 0 \n",
    "        \"\"\"\n",
    "        self.n_neighbors = n_neighbors\n",
    "        self.weights = weights\n",
    "        self.eps = eps\n",
    "\n",
    "    def get_pairwise_distances(self, X, Y):\n",
    "        \"\"\"\n",
    "        Returnes matrix of the pairwise distances between the rows from both X and Y.\n",
    "        Args:\n",
    "            X: numpy array of shape (n_samples, n_features)\n",
    "            Y: numpy array of shape (k_samples, n_features)\n",
    "        Returns:\n",
    "            P: numpy array of shape (n_samples, k_samples)\n",
    "                Matrix in which (i, j) value is the distance \n",
    "                between i'th row from the X and j'th row from the Y.\n",
    "        \"\"\"\n",
    "        n_samples = X.shape[0]\n",
    "        k_samples = Y.shape[0]\n",
    "        n_features = X.shape[1]\n",
    "        if n_features != Y.shape[1]:\n",
    "            raise Exception('Количество характеристик разное')\n",
    "\n",
    "        p = []\n",
    "        for n_sample in range(n_samples):\n",
    "            p_row_y_for_x = []\n",
    "            for k_sample in range(k_samples):\n",
    "                d = np.linalg.norm(X[n_sample] - Y[k_sample])\n",
    "                p_row_y_for_x.append(d)\n",
    "            p.append(p_row_y_for_x)\n",
    "\n",
    "        return np.array(p)\n",
    "\n",
    "    def get_class_weights(self, y, weights):\n",
    "        \"\"\"\n",
    "        Returns a vector with sum of weights for each class \n",
    "        Args:\n",
    "            y: numpy array of shape (n_samles,)\n",
    "            weights: numpy array of shape (n_samples,)\n",
    "                The weights of the corresponding points of y.\n",
    "        Returns:\n",
    "            p: numpy array of shape (n_classes)\n",
    "                Array where the value at the i-th position \n",
    "                corresponds to the weight of the i-th class.\n",
    "        \"\"\"\n",
    "        p = np.zeros(np.shape(model.classes_))\n",
    "        classes = np.array(model.classes_)\n",
    "\n",
    "        for y_index, class_name in enumerate(y):\n",
    "            # np.add.at(p, y[y_index], weights[y_index])\n",
    "            p[np.where(classes == class_name)[0][0]] += weights[y_index]\n",
    "        return p\n",
    "\n",
    "    def fit(self, X, y):\n",
    "        \"\"\"Fit the model.\n",
    "        \n",
    "        Args:\n",
    "            X: numpy array of shape (n_samples, n_features)\n",
    "            y: numpy array of shape (n_samples,)\n",
    "                Target vector.        \n",
    "        \"\"\"\n",
    "        self.points = X\n",
    "        self.y = y\n",
    "        self.classes_ = np.unique(y)\n",
    "\n",
    "    def predict_proba(self, X):\n",
    "        \"\"\"Predict positive class probabilities.\n",
    "        \n",
    "        Args:\n",
    "            X: numpy array of shape (n_samples, n_features)\n",
    "        Returns:\n",
    "            y: numpy array of shape (n_samples, n_classes)\n",
    "                Vector containing positive class probabilities.\n",
    "        \"\"\"\n",
    "        if hasattr(self, 'points'):\n",
    "            distance = self.get_pairwise_distances(X, self.points)\n",
    "\n",
    "            weights_of_points = np.ones(len(distance))\n",
    "            if self.weights == 'distance':\n",
    "                weights_of_points = 1 / (distance + self.eps)\n",
    "\n",
    "            # norm_w_classes = self.get_class_weights(self.y, weights_of_points)\n",
    "\n",
    "            n_samples = X.shape[0]\n",
    "            n_classes = np.shape(model.classes_)[0]\n",
    "\n",
    "            # print(norm_w_classes.shape)\n",
    "\n",
    "            # norm_w_classes = self.get_class_weights(self.y, weights_of_points)\n",
    "\n",
    "            # all_rows = np.arange(n_samples)\n",
    "            # print(distance)\n",
    "            # probabilities = []\n",
    "            # _y = self.y.reshape((-1, 1))\n",
    "            # for k, classes_k in enumerate(model.classes_):\n",
    "            #     pred_labels = _y[:][self.n_neighbors]\n",
    "            #     proba_k = np.zeros((n_samples, n_classes))\n",
    "            #\n",
    "            #     # a simple ':' index doesn't work right\n",
    "            #     for i, idx in enumerate(pred_labels.T):  # loop is O(n_neighbors)\n",
    "            #         proba_k[all_rows, idx] += weights_of_points[:, i]\n",
    "            #\n",
    "            #     # normalize 'votes' into real [0,1] probabilities\n",
    "            #     normalizer = proba_k.sum(axis=1)[:, np.newaxis]\n",
    "            #     normalizer[normalizer == 0.0] = 1.0\n",
    "            #     proba_k /= normalizer\n",
    "            #\n",
    "            #     probabilities.append(proba_k)\n",
    "            #\n",
    "            # return probabilities\n",
    "\n",
    "            # print(pd.DataFrame(weights_of_points))\n",
    "            # probabilities = []\n",
    "            #\n",
    "            # # n_classes = np.shape(model.classes_)[0]\n",
    "            # # # sum_w_by_class = self.get_class_weights(self.y, self.weights)\n",
    "            # # for index_class in range(n_samples) :\n",
    "            # #     probabilities_n = np.zeros(n_classes)\n",
    "            # #     # probability = w / sum_w_by_class\n",
    "            # #     # probability = w\n",
    "            # #     probabilities.append(probabilities_n)\n",
    "            # #\n",
    "            # # return np.array(probabilities)\n",
    "\n",
    "        else:\n",
    "            raise NotFittedError(\"CustomKNeighborsClassifier instance is not fitted yet\")\n",
    "\n",
    "    def predict(self, X):\n",
    "        \"\"\"Predict classes.\n",
    "        \n",
    "        Args:\n",
    "            X: numpy array of shape (n_samples, n_features)\n",
    "        Returns:\n",
    "            y: numpy array of shape (n_samples,)\n",
    "                Vector containing predicted class labels.\n",
    "        \"\"\"\n",
    "        # <your code>\n",
    "        pass"
   ]
  },
  {
   "cell_type": "code",
   "execution_count": 23,
   "metadata": {
    "pycharm": {
     "name": "#%%\n"
    }
   },
   "outputs": [],
   "source": [
    "model = CustomKNeighborsClassifier(n_neighbors=5, weights='distance')\n",
    "knn = KNeighborsClassifier(n_neighbors=5, weights='distance')\n",
    "X, y = datasets.load_digits(n_class=10, return_X_y=True)\n",
    "X_train, X_test, y_train, y_test = train_test_split(X, y, test_size=0.2, shuffle=True, random_state=42)\n",
    "model.fit(X_train, y_train)\n",
    "knn.fit(X_train, list(map(str, y_train)))\n",
    "model.predict_proba(X_test)\n",
    "# print(model.predict_proba(X_test), knn.predict_proba(X_test))"
   ]
  },
  {
   "cell_type": "code",
   "execution_count": 24,
   "metadata": {},
   "outputs": [],
   "source": [
    "model = CustomKNeighborsClassifier(n_neighbors=5, weights='distance')\n",
    "knn = KNeighborsClassifier(n_neighbors=5, weights='distance')"
   ]
  },
  {
   "cell_type": "code",
   "execution_count": 25,
   "metadata": {},
   "outputs": [],
   "source": [
    "assert np.allclose(model.get_pairwise_distances(np.array([[0, 1], [1, 1]]),\n",
    "                                                np.array([[0.5, 0.5], [1, 0]])),\n",
    "                   np.array([[0.70710678, 1.41421356],\n",
    "                             [0.70710678, 1.]]))"
   ]
  },
  {
   "cell_type": "code",
   "execution_count": 26,
   "metadata": {},
   "outputs": [],
   "source": [
    "model.classes_ = ['one', 'two', 'three']\n",
    "assert np.allclose(model.get_class_weights(np.array(['one', 'one', 'three', 'two']), np.array([1, 1, 0, 4])),\n",
    "                   np.array([2, 4, 0]))"
   ]
  },
  {
   "cell_type": "code",
   "execution_count": 27,
   "metadata": {},
   "outputs": [
    {
     "data": {
      "text/plain": "<Figure size 720x360 with 21 Axes>",
      "image/png": "[encoded data removed]"
     },
     "metadata": {
      "needs_background": "light"
     },
     "output_type": "display_data"
    }
   ],
   "source": [
    "X, y = datasets.load_digits(n_class=10, return_X_y=True)\n",
    "\n",
    "_, axes = plt.subplots(nrows=3, ncols=7, figsize=(10, 5))\n",
    "for ax, image, label in zip(axes.flatten(), X, y):\n",
    "    ax.set_axis_off()\n",
    "    ax.imshow(image.reshape((8, 8)), cmap=plt.cm.gray_r if label % 2 else plt.cm.afmhot_r)\n",
    "    ax.set_title(label)\n",
    "\n",
    "X_train, X_test, y_train, y_test = train_test_split(X, y, test_size=0.2, shuffle=True, random_state=42)"
   ]
  },
  {
   "cell_type": "code",
   "execution_count": 28,
   "metadata": {},
   "outputs": [],
   "source": [
    "model.fit(X_train, y_train)\n",
    "knn.fit(X_train, list(map(str, y_train)));"
   ]
  },
  {
   "cell_type": "code",
   "execution_count": 29,
   "metadata": {},
   "outputs": [
    {
     "ename": "TypeError",
     "evalue": "ufunc 'isfinite' not supported for the input types, and the inputs could not be safely coerced to any supported types according to the casting rule ''safe''",
     "output_type": "error",
     "traceback": [
      "\u001B[1;31m---------------------------------------------------------------------------\u001B[0m",
      "\u001B[1;31mTypeError\u001B[0m                                 Traceback (most recent call last)",
      "Input \u001B[1;32mIn [29]\u001B[0m, in \u001B[0;36m<cell line: 1>\u001B[1;34m()\u001B[0m\n\u001B[1;32m----> 1\u001B[0m \u001B[38;5;28;01massert\u001B[39;00m \u001B[43mnp\u001B[49m\u001B[38;5;241;43m.\u001B[39;49m\u001B[43mallclose\u001B[49m\u001B[43m(\u001B[49m\u001B[43mmodel\u001B[49m\u001B[38;5;241;43m.\u001B[39;49m\u001B[43mpredict_proba\u001B[49m\u001B[43m(\u001B[49m\u001B[43mX_test\u001B[49m\u001B[43m)\u001B[49m\u001B[43m,\u001B[49m\u001B[43m \u001B[49m\u001B[43mknn\u001B[49m\u001B[38;5;241;43m.\u001B[39;49m\u001B[43mpredict_proba\u001B[49m\u001B[43m(\u001B[49m\u001B[43mX_test\u001B[49m\u001B[43m)\u001B[49m\u001B[43m)\u001B[49m\n",
      "File \u001B[1;32m<__array_function__ internals>:5\u001B[0m, in \u001B[0;36mallclose\u001B[1;34m(*args, **kwargs)\u001B[0m\n",
      "File \u001B[1;32m~\\anaconda3\\envs\\linear_regression\\lib\\site-packages\\numpy\\core\\numeric.py:2249\u001B[0m, in \u001B[0;36mallclose\u001B[1;34m(a, b, rtol, atol, equal_nan)\u001B[0m\n\u001B[0;32m   2179\u001B[0m \u001B[38;5;129m@array_function_dispatch\u001B[39m(_allclose_dispatcher)\n\u001B[0;32m   2180\u001B[0m \u001B[38;5;28;01mdef\u001B[39;00m \u001B[38;5;21mallclose\u001B[39m(a, b, rtol\u001B[38;5;241m=\u001B[39m\u001B[38;5;241m1.e-5\u001B[39m, atol\u001B[38;5;241m=\u001B[39m\u001B[38;5;241m1.e-8\u001B[39m, equal_nan\u001B[38;5;241m=\u001B[39m\u001B[38;5;28;01mFalse\u001B[39;00m):\n\u001B[0;32m   2181\u001B[0m     \u001B[38;5;124;03m\"\"\"\u001B[39;00m\n\u001B[0;32m   2182\u001B[0m \u001B[38;5;124;03m    Returns True if two arrays are element-wise equal within a tolerance.\u001B[39;00m\n\u001B[0;32m   2183\u001B[0m \n\u001B[1;32m   (...)\u001B[0m\n\u001B[0;32m   2247\u001B[0m \n\u001B[0;32m   2248\u001B[0m \u001B[38;5;124;03m    \"\"\"\u001B[39;00m\n\u001B[1;32m-> 2249\u001B[0m     res \u001B[38;5;241m=\u001B[39m \u001B[38;5;28mall\u001B[39m(\u001B[43misclose\u001B[49m\u001B[43m(\u001B[49m\u001B[43ma\u001B[49m\u001B[43m,\u001B[49m\u001B[43m \u001B[49m\u001B[43mb\u001B[49m\u001B[43m,\u001B[49m\u001B[43m \u001B[49m\u001B[43mrtol\u001B[49m\u001B[38;5;241;43m=\u001B[39;49m\u001B[43mrtol\u001B[49m\u001B[43m,\u001B[49m\u001B[43m \u001B[49m\u001B[43matol\u001B[49m\u001B[38;5;241;43m=\u001B[39;49m\u001B[43matol\u001B[49m\u001B[43m,\u001B[49m\u001B[43m \u001B[49m\u001B[43mequal_nan\u001B[49m\u001B[38;5;241;43m=\u001B[39;49m\u001B[43mequal_nan\u001B[49m\u001B[43m)\u001B[49m)\n\u001B[0;32m   2250\u001B[0m     \u001B[38;5;28;01mreturn\u001B[39;00m \u001B[38;5;28mbool\u001B[39m(res)\n",
      "File \u001B[1;32m<__array_function__ internals>:5\u001B[0m, in \u001B[0;36misclose\u001B[1;34m(*args, **kwargs)\u001B[0m\n",
      "File \u001B[1;32m~\\anaconda3\\envs\\linear_regression\\lib\\site-packages\\numpy\\core\\numeric.py:2355\u001B[0m, in \u001B[0;36misclose\u001B[1;34m(a, b, rtol, atol, equal_nan)\u001B[0m\n\u001B[0;32m   2352\u001B[0m     dt \u001B[38;5;241m=\u001B[39m multiarray\u001B[38;5;241m.\u001B[39mresult_type(y, \u001B[38;5;241m1.\u001B[39m)\n\u001B[0;32m   2353\u001B[0m     y \u001B[38;5;241m=\u001B[39m asanyarray(y, dtype\u001B[38;5;241m=\u001B[39mdt)\n\u001B[1;32m-> 2355\u001B[0m xfin \u001B[38;5;241m=\u001B[39m \u001B[43misfinite\u001B[49m\u001B[43m(\u001B[49m\u001B[43mx\u001B[49m\u001B[43m)\u001B[49m\n\u001B[0;32m   2356\u001B[0m yfin \u001B[38;5;241m=\u001B[39m isfinite(y)\n\u001B[0;32m   2357\u001B[0m \u001B[38;5;28;01mif\u001B[39;00m \u001B[38;5;28mall\u001B[39m(xfin) \u001B[38;5;129;01mand\u001B[39;00m \u001B[38;5;28mall\u001B[39m(yfin):\n",
      "\u001B[1;31mTypeError\u001B[0m: ufunc 'isfinite' not supported for the input types, and the inputs could not be safely coerced to any supported types according to the casting rule ''safe''"
     ]
    }
   ],
   "source": [
    "assert np.allclose(model.predict_proba(X_test), knn.predict_proba(X_test))"
   ]
  },
  {
   "cell_type": "markdown",
   "source": [
    "![](https://medialeaks.ru/wp-content/uploads/2020/03/1-1-12.jpg)"
   ],
   "metadata": {
    "collapsed": false,
    "pycharm": {
     "name": "#%% md\n"
    }
   }
  },
  {
   "cell_type": "code",
   "execution_count": null,
   "metadata": {},
   "outputs": [],
   "source": [
    "train_acc, test_acc = fit_evaluate(model, X_train, y_train, X_test, y_test)"
   ]
  },
  {
   "cell_type": "code",
   "execution_count": null,
   "metadata": {},
   "outputs": [],
   "source": [
    "assert train_acc == 1\n",
    "assert test_acc > 0.98"
   ]
  },
  {
   "cell_type": "markdown",
   "metadata": {},
   "source": [
    "**(0.5 points)** Take a look at the confusion matrix and tell what numbers the model confuses and why this happens."
   ]
  },
  {
   "cell_type": "code",
   "execution_count": 30,
   "metadata": {
    "pycharm": {
     "name": "#%%\n"
    }
   },
   "outputs": [
    {
     "data": {
      "text/plain": "<Figure size 432x288 with 2 Axes>",
      "image/png": "[encoded data removed]"
     },
     "metadata": {
      "needs_background": "light"
     },
     "output_type": "display_data"
    }
   ],
   "source": [
    "train_acc, test_acc = fit_evaluate(knn, X_train, y_train, X_test, y_test)"
   ]
  },
  {
   "cell_type": "markdown",
   "metadata": {},
   "source": [
    "Можно наблюдать, что проблемы с определением значения числа возникает на цифрах 5, 7, 9.\n",
    "- 9 похожа на 4 и 5\n",
    "- 7 похожа на 9\n",
    "- 5 похожа на 6 и 9"
   ]
  },
  {
   "cell_type": "markdown",
   "metadata": {},
   "source": [
    "**(0.5 points)** Try different n_neighbors parameters and compare the output probabilities of the model."
   ]
  },
  {
   "cell_type": "code",
   "execution_count": 31,
   "metadata": {},
   "outputs": [
    {
     "name": "stdout",
     "output_type": "stream",
     "text": [
      "При значении K = 5\n"
     ]
    },
    {
     "data": {
      "text/plain": "<Figure size 432x288 with 2 Axes>",
      "image/png": "[encoded data removed]"
     },
     "metadata": {
      "needs_background": "light"
     },
     "output_type": "display_data"
    },
    {
     "name": "stdout",
     "output_type": "stream",
     "text": [
      "При значении K = 10\n"
     ]
    },
    {
     "data": {
      "text/plain": "<Figure size 432x288 with 2 Axes>",
      "image/png": "[encoded data removed]"
     },
     "metadata": {
      "needs_background": "light"
     },
     "output_type": "display_data"
    },
    {
     "name": "stdout",
     "output_type": "stream",
     "text": [
      "При значении K = 50\n"
     ]
    },
    {
     "data": {
      "text/plain": "<Figure size 432x288 with 2 Axes>",
      "image/png": "[encoded data removed]"
     },
     "metadata": {
      "needs_background": "light"
     },
     "output_type": "display_data"
    },
    {
     "name": "stdout",
     "output_type": "stream",
     "text": [
      "При значении K = 100\n"
     ]
    },
    {
     "data": {
      "text/plain": "<Figure size 432x288 with 2 Axes>",
      "image/png": "[encoded data removed]"
     },
     "metadata": {
      "needs_background": "light"
     },
     "output_type": "display_data"
    }
   ],
   "source": [
    "k_values = [5, 10, 50, 100]\n",
    "for k in k_values:\n",
    "    knn = KNeighborsClassifier(n_neighbors=k, weights='distance')\n",
    "    print('При значении K =', k)\n",
    "    train_acc, test_acc = fit_evaluate(knn, X_train, y_train, X_test, y_test)"
   ]
  },
  {
   "cell_type": "markdown",
   "metadata": {},
   "source": [
    "С увеличением параметра K появляются сложности с определением значений других цифр, которые вызывали трудности в прогнозе при k=5. И всё также наблюдаются проблемы у цифр 9, 7, 5, а при увеличении K шанс ошибиться с этими цифрами немного растёт."
   ]
  },
  {
   "cell_type": "markdown",
   "metadata": {},
   "source": [
    "**(0.5 points)** Compare both 'uniform' and 'distance' weights and share your thoughts in what situations which parameter can be better."
   ]
  },
  {
   "cell_type": "code",
   "execution_count": 32,
   "metadata": {},
   "outputs": [
    {
     "name": "stdout",
     "output_type": "stream",
     "text": [
      "weights = uniform\n"
     ]
    },
    {
     "data": {
      "text/plain": "<Figure size 432x288 with 2 Axes>",
      "image/png": "[encoded data removed]"
     },
     "metadata": {
      "needs_background": "light"
     },
     "output_type": "display_data"
    },
    {
     "name": "stdout",
     "output_type": "stream",
     "text": [
      "0.9895615866388309 0.9861111111111112\n",
      "weights = distance\n"
     ]
    },
    {
     "data": {
      "text/plain": "<Figure size 432x288 with 2 Axes>",
      "image/png": "[encoded data removed]"
     },
     "metadata": {
      "needs_background": "light"
     },
     "output_type": "display_data"
    },
    {
     "name": "stdout",
     "output_type": "stream",
     "text": [
      "1.0 0.9861111111111112\n"
     ]
    }
   ],
   "source": [
    "knn = KNeighborsClassifier(n_neighbors=5, weights='uniform')\n",
    "print('weights = uniform')\n",
    "train_acc, test_acc = fit_evaluate(knn, X_train, y_train, X_test, y_test)\n",
    "print(train_acc, test_acc)\n",
    "\n",
    "knn = KNeighborsClassifier(n_neighbors=5, weights='distance')\n",
    "print('weights = distance')\n",
    "train_acc, test_acc = fit_evaluate(knn, X_train, y_train, X_test, y_test)\n",
    "print(train_acc, test_acc)"
   ]
  },
  {
   "cell_type": "markdown",
   "metadata": {},
   "source": [
    "При weights = distance метрика Accuracy на тренировочных данных показывает идеальный результат, 100% угадывание, а при weights = uniform, метрика Accuracy на тренировочных данных показывает 99%\n",
    "Значение weights = distance предпочтительнее, так как связи с соседями имеют веса, что по своей сути улучшает прогноз."
   ]
  },
  {
   "cell_type": "markdown",
   "metadata": {},
   "source": [
    "**(0.5 points)** Suggest another distance measurement function that could improve the quality of the classification for this task. "
   ]
  },
  {
   "cell_type": "markdown",
   "metadata": {},
   "source": [
    "На данный момент мы использовали функцию Эвклидового расстояния. Евклидово расстояние прекрасно работает, когда у вас маломерные данные, и величина векторов важна для измерения.\n",
    "Но существуют и [другие функции](https://scikit-learn.org/stable/modules/generated/sklearn.metrics.DistanceMetric.html#sklearn.metrics.DistanceMetric):\n",
    "ManhattanDistance\n",
    "ChebyshevDistance\n",
    "MinkowskiDistance\n",
    "WMinkowskiDistance\n",
    "SEuclideanDistance\n",
    "MahalanobisDistance"
   ]
  },
  {
   "cell_type": "markdown",
   "metadata": {},
   "source": [
    "**(0.5 points)** Suggest different task and distance function that you think would be suitable for it.\n",
    "\n",
    "Есть например Cosine Similarity.\n",
    "\n",
    "![](https://miro.medium.com/max/433/0*WmZ-uk5VzfY7RiBt)\n",
    "\n",
    "Оно часто используется в противовес эвклидового расстояния, так как не имеет проблем с высокой размерностью данных. Мы можем его например использовать в задачах анализа текста, когда данные представлены количеством слов. Например, когда слово встречается в одном документе чаще над другим, это не обязательно означает, что один документ больше связан с этим словом. Может случиться так, что документы имеют неравномерную длину, а величина подсчета имеет меньшее значение."
   ]
  },
  {
   "cell_type": "markdown",
   "metadata": {},
   "source": [
    "## Part 3: Synthetic Titanic Survival Prediction"
   ]
  },
  {
   "cell_type": "markdown",
   "metadata": {},
   "source": [
    "### Dataset\n",
    "\n",
    "Read the description here: https://www.kaggle.com/c/tabular-playground-series-apr-2021/data. Download the dataset and place it in the *data/titanic/* folder in your working directory.\n",
    "You will use train.csv for model training and validation. The test set is used for model testing: once the model is trained, you can predict whether a passenger survived or not for each passenger in the test set, and submit the predictions: https://www.kaggle.com/c/tabular-playground-series-apr-2021/overview/evaluation.  \n"
   ]
  },
  {
   "cell_type": "code",
   "execution_count": 33,
   "metadata": {},
   "outputs": [],
   "source": [
    "PATH = \"./data/\""
   ]
  },
  {
   "cell_type": "code",
   "execution_count": 34,
   "metadata": {},
   "outputs": [],
   "source": [
    "data = pd.read_csv(os.path.join(PATH, 'titanic', 'train.csv')).set_index('PassengerId')"
   ]
  },
  {
   "cell_type": "code",
   "execution_count": 35,
   "metadata": {
    "scrolled": true
   },
   "outputs": [
    {
     "data": {
      "text/plain": "             Survived  Pclass              Name   Sex    Age  SibSp  Parch  \\\nPassengerId                                                                  \n0                   1       1  Oconnor, Frankie  male    NaN      2      0   \n1                   0       3       Bryan, Drew  male    NaN      0      0   \n2                   0       3    Owens, Kenneth  male   0.33      1      2   \n3                   0       3     Kramer, James  male  19.00      0      0   \n4                   1       3     Bond, Michael  male  25.00      0      0   \n\n                Ticket   Fare   Cabin Embarked  \nPassengerId                                     \n0               209245  27.14  C12239        S  \n1                27323  13.35     NaN        S  \n2            CA 457703  71.29     NaN        S  \n3             A. 10866  13.04     NaN        S  \n4               427635   7.76     NaN        S  ",
      "text/html": "<div>\n<style scoped>\n    .dataframe tbody tr th:only-of-type {\n        vertical-align: middle;\n    }\n\n    .dataframe tbody tr th {\n        vertical-align: top;\n    }\n\n    .dataframe thead th {\n        text-align: right;\n    }\n</style>\n<table border=\"1\" class=\"dataframe\">\n  <thead>\n    <tr style=\"text-align: right;\">\n      <th></th>\n      <th>Survived</th>\n      <th>Pclass</th>\n      <th>Name</th>\n      <th>Sex</th>\n      <th>Age</th>\n      <th>SibSp</th>\n      <th>Parch</th>\n      <th>Ticket</th>\n      <th>Fare</th>\n      <th>Cabin</th>\n      <th>Embarked</th>\n    </tr>\n    <tr>\n      <th>PassengerId</th>\n      <th></th>\n      <th></th>\n      <th></th>\n      <th></th>\n      <th></th>\n      <th></th>\n      <th></th>\n      <th></th>\n      <th></th>\n      <th></th>\n      <th></th>\n    </tr>\n  </thead>\n  <tbody>\n    <tr>\n      <th>0</th>\n      <td>1</td>\n      <td>1</td>\n      <td>Oconnor, Frankie</td>\n      <td>male</td>\n      <td>NaN</td>\n      <td>2</td>\n      <td>0</td>\n      <td>209245</td>\n      <td>27.14</td>\n      <td>C12239</td>\n      <td>S</td>\n    </tr>\n    <tr>\n      <th>1</th>\n      <td>0</td>\n      <td>3</td>\n      <td>Bryan, Drew</td>\n      <td>male</td>\n      <td>NaN</td>\n      <td>0</td>\n      <td>0</td>\n      <td>27323</td>\n      <td>13.35</td>\n      <td>NaN</td>\n      <td>S</td>\n    </tr>\n    <tr>\n      <th>2</th>\n      <td>0</td>\n      <td>3</td>\n      <td>Owens, Kenneth</td>\n      <td>male</td>\n      <td>0.33</td>\n      <td>1</td>\n      <td>2</td>\n      <td>CA 457703</td>\n      <td>71.29</td>\n      <td>NaN</td>\n      <td>S</td>\n    </tr>\n    <tr>\n      <th>3</th>\n      <td>0</td>\n      <td>3</td>\n      <td>Kramer, James</td>\n      <td>male</td>\n      <td>19.00</td>\n      <td>0</td>\n      <td>0</td>\n      <td>A. 10866</td>\n      <td>13.04</td>\n      <td>NaN</td>\n      <td>S</td>\n    </tr>\n    <tr>\n      <th>4</th>\n      <td>1</td>\n      <td>3</td>\n      <td>Bond, Michael</td>\n      <td>male</td>\n      <td>25.00</td>\n      <td>0</td>\n      <td>0</td>\n      <td>427635</td>\n      <td>7.76</td>\n      <td>NaN</td>\n      <td>S</td>\n    </tr>\n  </tbody>\n</table>\n</div>"
     },
     "execution_count": 35,
     "metadata": {},
     "output_type": "execute_result"
    }
   ],
   "source": [
    "data.head()"
   ]
  },
  {
   "cell_type": "markdown",
   "metadata": {},
   "source": [
    "### EDA"
   ]
  },
  {
   "cell_type": "markdown",
   "metadata": {},
   "source": [
    "**(0.5 points)** How many females and males are there in the dataset? What about the survived passengers? Is there any relationship between the gender and the survival?"
   ]
  },
  {
   "cell_type": "code",
   "execution_count": 36,
   "metadata": {},
   "outputs": [
    {
     "name": "stdout",
     "output_type": "stream",
     "text": [
      "Females 43.89 %\n",
      "Males 56.11 %\n"
     ]
    }
   ],
   "source": [
    "print('Females', round(data.groupby(by='Sex').count().iloc[0, 1] / data.shape[0] * 100, 2), '%')\n",
    "print('Males', round(data.groupby(by='Sex').count().iloc[1, 1] / data.shape[0] * 100, 2), '%')"
   ]
  },
  {
   "cell_type": "code",
   "execution_count": 37,
   "metadata": {
    "pycharm": {
     "name": "#%%\n"
    }
   },
   "outputs": [
    {
     "data": {
      "text/plain": "            Количество        %\n0  Погибло       57226   57.226\n1   Выжило       42774   42.774\n2    Итого      100000  100.000",
      "text/html": "<div>\n<style scoped>\n    .dataframe tbody tr th:only-of-type {\n        vertical-align: middle;\n    }\n\n    .dataframe tbody tr th {\n        vertical-align: top;\n    }\n\n    .dataframe thead th {\n        text-align: right;\n    }\n</style>\n<table border=\"1\" class=\"dataframe\">\n  <thead>\n    <tr style=\"text-align: right;\">\n      <th></th>\n      <th></th>\n      <th>Количество</th>\n      <th>%</th>\n    </tr>\n  </thead>\n  <tbody>\n    <tr>\n      <th>0</th>\n      <td>Погибло</td>\n      <td>57226</td>\n      <td>57.226</td>\n    </tr>\n    <tr>\n      <th>1</th>\n      <td>Выжило</td>\n      <td>42774</td>\n      <td>42.774</td>\n    </tr>\n    <tr>\n      <th>2</th>\n      <td>Итого</td>\n      <td>100000</td>\n      <td>100.000</td>\n    </tr>\n  </tbody>\n</table>\n</div>"
     },
     "execution_count": 37,
     "metadata": {},
     "output_type": "execute_result"
    }
   ],
   "source": [
    "stats_survived = data.groupby(by='Survived').Survived.count()\n",
    "stats_survived = pd.DataFrame([['Погибло', stats_survived[0], stats_survived[0] / 100_000 * 100],\n",
    "                               ['Выжило', stats_survived[1], stats_survived[1] / 100_000 * 100],\n",
    "                               ['Итого', 100_000, 100]], columns=['', 'Количество', '%'])\n",
    "stats_survived"
   ]
  },
  {
   "cell_type": "code",
   "execution_count": 38,
   "metadata": {
    "pycharm": {
     "name": "#%%\n"
    }
   },
   "outputs": [
    {
     "data": {
      "text/plain": "<AxesSubplot:title={'center':'Данные о погибших и выживших пассажиров'}, ylabel='Количество'>"
     },
     "execution_count": 38,
     "metadata": {},
     "output_type": "execute_result"
    },
    {
     "data": {
      "text/plain": "<Figure size 432x288 with 1 Axes>",
      "image/png": "[encoded data removed]"
     },
     "metadata": {
      "needs_background": "light"
     },
     "output_type": "display_data"
    }
   ],
   "source": [
    "plt.title('Данные о погибших и выживших пассажиров')\n",
    "sns.barplot(x=stats_survived.iloc[:2, 0], y=stats_survived.iloc[:2, 1], palette=[\"r\", \"#2ecc71\"])"
   ]
  },
  {
   "cell_type": "code",
   "execution_count": 39,
   "metadata": {
    "pycharm": {
     "name": "#%%\n"
    }
   },
   "outputs": [
    {
     "data": {
      "text/plain": "[Text(0.5, 0, 'ПОГИБЛО - ВЫЖИЛО'), Text(0, 0.5, 'Количество')]"
     },
     "execution_count": 39,
     "metadata": {},
     "output_type": "execute_result"
    },
    {
     "data": {
      "text/plain": "<Figure size 432x288 with 1 Axes>",
      "image/png": "[encoded data removed]"
     },
     "metadata": {
      "needs_background": "light"
     },
     "output_type": "display_data"
    }
   ],
   "source": [
    "plt.title('Данные о погибших,выживших мужчин и женщин')\n",
    "sns.countplot(data=data, x='Survived', hue=\"Sex\", palette=[\"blue\", \"purple\"]).set(xlabel=\"ПОГИБЛО - ВЫЖИЛО\",\n",
    "                                                                                  ylabel=\"Количество\")"
   ]
  },
  {
   "cell_type": "code",
   "execution_count": 40,
   "metadata": {
    "pycharm": {
     "name": "#%%\n"
    }
   },
   "outputs": [
    {
     "data": {
      "text/plain": "             Gender  Survived  Pclass                Name     Sex    Age  \\\nPassengerId                                                                \n0                 0         1       1    Oconnor, Frankie    male    NaN   \n1                 0         0       3         Bryan, Drew    male    NaN   \n2                 0         0       3      Owens, Kenneth    male   0.33   \n3                 0         0       3       Kramer, James    male  19.00   \n4                 0         1       3       Bond, Michael    male  25.00   \n...             ...       ...     ...                 ...     ...    ...   \n99995             1         1       2         Bell, Adele  female  62.00   \n99996             0         0       2       Brown, Herman    male  66.00   \n99997             0         0       3  Childress, Charles    male  37.00   \n99998             0         0       3    Caughlin, Thomas    male  51.00   \n99999             0         0       3       Enciso, Tyler    male  55.00   \n\n             SibSp  Parch     Ticket   Fare   Cabin Embarked  \nPassengerId                                                   \n0                2      0     209245  27.14  C12239        S  \n1                0      0      27323  13.35     NaN        S  \n2                1      2  CA 457703  71.29     NaN        S  \n3                0      0   A. 10866  13.04     NaN        S  \n4                0      0     427635   7.76     NaN        S  \n...            ...    ...        ...    ...     ...      ...  \n99995            0      0   PC 15008  14.86  D17243        C  \n99996            0      0      13273  11.15     NaN        S  \n99997            0      0        NaN   9.95     NaN        S  \n99998            0      1     458654  30.92     NaN        S  \n99999            0      0     458074  13.96     NaN        S  \n\n[100000 rows x 12 columns]",
      "text/html": "<div>\n<style scoped>\n    .dataframe tbody tr th:only-of-type {\n        vertical-align: middle;\n    }\n\n    .dataframe tbody tr th {\n        vertical-align: top;\n    }\n\n    .dataframe thead th {\n        text-align: right;\n    }\n</style>\n<table border=\"1\" class=\"dataframe\">\n  <thead>\n    <tr style=\"text-align: right;\">\n      <th></th>\n      <th>Gender</th>\n      <th>Survived</th>\n      <th>Pclass</th>\n      <th>Name</th>\n      <th>Sex</th>\n      <th>Age</th>\n      <th>SibSp</th>\n      <th>Parch</th>\n      <th>Ticket</th>\n      <th>Fare</th>\n      <th>Cabin</th>\n      <th>Embarked</th>\n    </tr>\n    <tr>\n      <th>PassengerId</th>\n      <th></th>\n      <th></th>\n      <th></th>\n      <th></th>\n      <th></th>\n      <th></th>\n      <th></th>\n      <th></th>\n      <th></th>\n      <th></th>\n      <th></th>\n      <th></th>\n    </tr>\n  </thead>\n  <tbody>\n    <tr>\n      <th>0</th>\n      <td>0</td>\n      <td>1</td>\n      <td>1</td>\n      <td>Oconnor, Frankie</td>\n      <td>male</td>\n      <td>NaN</td>\n      <td>2</td>\n      <td>0</td>\n      <td>209245</td>\n      <td>27.14</td>\n      <td>C12239</td>\n      <td>S</td>\n    </tr>\n    <tr>\n      <th>1</th>\n      <td>0</td>\n      <td>0</td>\n      <td>3</td>\n      <td>Bryan, Drew</td>\n      <td>male</td>\n      <td>NaN</td>\n      <td>0</td>\n      <td>0</td>\n      <td>27323</td>\n      <td>13.35</td>\n      <td>NaN</td>\n      <td>S</td>\n    </tr>\n    <tr>\n      <th>2</th>\n      <td>0</td>\n      <td>0</td>\n      <td>3</td>\n      <td>Owens, Kenneth</td>\n      <td>male</td>\n      <td>0.33</td>\n      <td>1</td>\n      <td>2</td>\n      <td>CA 457703</td>\n      <td>71.29</td>\n      <td>NaN</td>\n      <td>S</td>\n    </tr>\n    <tr>\n      <th>3</th>\n      <td>0</td>\n      <td>0</td>\n      <td>3</td>\n      <td>Kramer, James</td>\n      <td>male</td>\n      <td>19.00</td>\n      <td>0</td>\n      <td>0</td>\n      <td>A. 10866</td>\n      <td>13.04</td>\n      <td>NaN</td>\n      <td>S</td>\n    </tr>\n    <tr>\n      <th>4</th>\n      <td>0</td>\n      <td>1</td>\n      <td>3</td>\n      <td>Bond, Michael</td>\n      <td>male</td>\n      <td>25.00</td>\n      <td>0</td>\n      <td>0</td>\n      <td>427635</td>\n      <td>7.76</td>\n      <td>NaN</td>\n      <td>S</td>\n    </tr>\n    <tr>\n      <th>...</th>\n      <td>...</td>\n      <td>...</td>\n      <td>...</td>\n      <td>...</td>\n      <td>...</td>\n      <td>...</td>\n      <td>...</td>\n      <td>...</td>\n      <td>...</td>\n      <td>...</td>\n      <td>...</td>\n      <td>...</td>\n    </tr>\n    <tr>\n      <th>99995</th>\n      <td>1</td>\n      <td>1</td>\n      <td>2</td>\n      <td>Bell, Adele</td>\n      <td>female</td>\n      <td>62.00</td>\n      <td>0</td>\n      <td>0</td>\n      <td>PC 15008</td>\n      <td>14.86</td>\n      <td>D17243</td>\n      <td>C</td>\n    </tr>\n    <tr>\n      <th>99996</th>\n      <td>0</td>\n      <td>0</td>\n      <td>2</td>\n      <td>Brown, Herman</td>\n      <td>male</td>\n      <td>66.00</td>\n      <td>0</td>\n      <td>0</td>\n      <td>13273</td>\n      <td>11.15</td>\n      <td>NaN</td>\n      <td>S</td>\n    </tr>\n    <tr>\n      <th>99997</th>\n      <td>0</td>\n      <td>0</td>\n      <td>3</td>\n      <td>Childress, Charles</td>\n      <td>male</td>\n      <td>37.00</td>\n      <td>0</td>\n      <td>0</td>\n      <td>NaN</td>\n      <td>9.95</td>\n      <td>NaN</td>\n      <td>S</td>\n    </tr>\n    <tr>\n      <th>99998</th>\n      <td>0</td>\n      <td>0</td>\n      <td>3</td>\n      <td>Caughlin, Thomas</td>\n      <td>male</td>\n      <td>51.00</td>\n      <td>0</td>\n      <td>1</td>\n      <td>458654</td>\n      <td>30.92</td>\n      <td>NaN</td>\n      <td>S</td>\n    </tr>\n    <tr>\n      <th>99999</th>\n      <td>0</td>\n      <td>0</td>\n      <td>3</td>\n      <td>Enciso, Tyler</td>\n      <td>male</td>\n      <td>55.00</td>\n      <td>0</td>\n      <td>0</td>\n      <td>458074</td>\n      <td>13.96</td>\n      <td>NaN</td>\n      <td>S</td>\n    </tr>\n  </tbody>\n</table>\n<p>100000 rows × 12 columns</p>\n</div>"
     },
     "execution_count": 40,
     "metadata": {},
     "output_type": "execute_result"
    }
   ],
   "source": [
    "fm = pd.get_dummies(data.Sex)\n",
    "newdata = pd.concat((fm, data), axis=1)\n",
    "newdata\n",
    "newdata = newdata.drop([\"male\"], axis=1)\n",
    "newdata = newdata.rename(columns={\"female\": \"Gender\"})\n",
    "newdata"
   ]
  },
  {
   "cell_type": "code",
   "execution_count": 41,
   "metadata": {
    "pycharm": {
     "name": "#%%\n"
    }
   },
   "outputs": [
    {
     "name": "stdout",
     "output_type": "stream",
     "text": [
      "Коэффициент Пирсона 0.51\n"
     ]
    }
   ],
   "source": [
    "feature_lst = ['Gender', 'Survived']\n",
    "corr = newdata[feature_lst].corr()\n",
    "print(\"Коэффициент Пирсона\", round(newdata[feature_lst].corr(method='pearson').iloc[1, 0], 2))"
   ]
  },
  {
   "cell_type": "markdown",
   "metadata": {
    "pycharm": {
     "name": "#%% md\n"
    }
   },
   "source": [
    "Незначительная связь между Полом и Выживанием существует."
   ]
  },
  {
   "cell_type": "markdown",
   "metadata": {},
   "source": [
    "**(0.5 points)** Plot age distribution of the passengers. What is the average and the median age of survived and deceased passengers? Do age distributions differ for survived and deceased passengers? Why?"
   ]
  },
  {
   "cell_type": "code",
   "execution_count": 42,
   "metadata": {},
   "outputs": [
    {
     "data": {
      "text/plain": "<Figure size 864x288 with 1 Axes>",
      "image/png": "[encoded data removed]"
     },
     "metadata": {
      "needs_background": "light"
     },
     "output_type": "display_data"
    }
   ],
   "source": [
    "data['Age_Range'] = pd.cut(data.Age, [0, 1, 7, 16, 25, 35, 55, 100])\n",
    "data['Age_Range'] = data.Age_Range.astype('str')\n",
    "data['Age_Range'] = data.Age_Range.fillna('nan')\n",
    "\n",
    "plt.figure(figsize=(12, 4))\n",
    "plt.title('Данные о погибших и выживших для возрастных групп')\n",
    "age_order = ['nan', '(0, 1]', '(1, 7]', '(7, 16]', '(16, 25]', '(25, 35]', '(35, 55]', '(55, 100]']\n",
    "sns.countplot(data=data, x='Age_Range', hue=\"Survived\", order=age_order, palette=[\"r\", \"#2ecc71\"]).set(\n",
    "    xlabel=\"Возрастные группы\", ylabel=\"Количество\")\n",
    "plt.show()"
   ]
  },
  {
   "cell_type": "code",
   "execution_count": 43,
   "metadata": {
    "pycharm": {
     "name": "#%%\n"
    }
   },
   "outputs": [
    {
     "data": {
      "text/plain": "Survived\n0    36.708695\n1    40.553799\nName: Age, dtype: float64"
     },
     "execution_count": 43,
     "metadata": {},
     "output_type": "execute_result"
    }
   ],
   "source": [
    "data.groupby(by=['Survived']).Age.mean()"
   ]
  },
  {
   "cell_type": "code",
   "execution_count": 44,
   "metadata": {
    "pycharm": {
     "name": "#%%\n"
    }
   },
   "outputs": [
    {
     "data": {
      "text/plain": "Survived\n0    36.0\n1    43.0\nName: Age, dtype: float64"
     },
     "execution_count": 44,
     "metadata": {},
     "output_type": "execute_result"
    }
   ],
   "source": [
    "data.groupby(by=['Survived']).Age.median()"
   ]
  },
  {
   "cell_type": "markdown",
   "metadata": {},
   "source": [
    "Выделяются возрастные группы в границах 16 лет до 35 лет, а также младенцы до 1 года - почти в 2 раза больше погибших пассажиров этих возрастов, чем выживших. Им менее повезло чем остальным, остальные же пассажиры (в возрасте от 1 года до 16 и старше 35 лет) имели по статистике почти равный шанс как спастись, так и погибнуть."
   ]
  },
  {
   "cell_type": "markdown",
   "metadata": {},
   "source": [
    "**(1 point)** Explore \"passenger class\" and \"embarked\" features. What class was \"the safest\"? Is there any relationship between the embarkation port and the survival? Provide the corresponding visualizations."
   ]
  },
  {
   "cell_type": "code",
   "execution_count": 45,
   "metadata": {
    "pycharm": {
     "name": "#%%\n"
    }
   },
   "outputs": [
    {
     "data": {
      "text/plain": "S    72139\nC    22187\nQ     5424\nName: Embarked, dtype: int64"
     },
     "execution_count": 45,
     "metadata": {},
     "output_type": "execute_result"
    }
   ],
   "source": [
    "data.Embarked.value_counts()"
   ]
  },
  {
   "cell_type": "markdown",
   "metadata": {
    "pycharm": {
     "name": "#%% md\n"
    }
   },
   "source": [
    "Три уникальных порта. Данные указаны верно. C = Шербуре (Cherbourg), Q = Квинстаун (Queenstown), S = Саутгемптоне (Southampton)"
   ]
  },
  {
   "cell_type": "code",
   "execution_count": 46,
   "metadata": {
    "pycharm": {
     "name": "#%%\n"
    }
   },
   "outputs": [
    {
     "data": {
      "text/plain": "Int64Index([3, 1, 2], dtype='int64')"
     },
     "execution_count": 46,
     "metadata": {},
     "output_type": "execute_result"
    }
   ],
   "source": [
    "data.Pclass.value_counts().index"
   ]
  },
  {
   "cell_type": "markdown",
   "metadata": {
    "pycharm": {
     "name": "#%% md\n"
    }
   },
   "source": [
    "Данные по Pclass содержат только значения 1,2,3 - что полностью совпадает с классами кают. Данные корректные."
   ]
  },
  {
   "cell_type": "code",
   "execution_count": 47,
   "metadata": {
    "pycharm": {
     "name": "#%%\n"
    }
   },
   "outputs": [
    {
     "data": {
      "text/plain": "        count    sum  Survived_ratio\nPclass                              \n1       30315  17576            58.0\n2       28679  15057            53.0\n3       41006  10141            25.0",
      "text/html": "<div>\n<style scoped>\n    .dataframe tbody tr th:only-of-type {\n        vertical-align: middle;\n    }\n\n    .dataframe tbody tr th {\n        vertical-align: top;\n    }\n\n    .dataframe thead th {\n        text-align: right;\n    }\n</style>\n<table border=\"1\" class=\"dataframe\">\n  <thead>\n    <tr style=\"text-align: right;\">\n      <th></th>\n      <th>count</th>\n      <th>sum</th>\n      <th>Survived_ratio</th>\n    </tr>\n    <tr>\n      <th>Pclass</th>\n      <th></th>\n      <th></th>\n      <th></th>\n    </tr>\n  </thead>\n  <tbody>\n    <tr>\n      <th>1</th>\n      <td>30315</td>\n      <td>17576</td>\n      <td>58.0</td>\n    </tr>\n    <tr>\n      <th>2</th>\n      <td>28679</td>\n      <td>15057</td>\n      <td>53.0</td>\n    </tr>\n    <tr>\n      <th>3</th>\n      <td>41006</td>\n      <td>10141</td>\n      <td>25.0</td>\n    </tr>\n  </tbody>\n</table>\n</div>"
     },
     "execution_count": 47,
     "metadata": {},
     "output_type": "execute_result"
    }
   ],
   "source": [
    "class_data = data.groupby('Pclass').Survived.agg(['count', 'sum'])\n",
    "class_data['Survived_ratio'] = round(class_data['sum'] / class_data['count'] * 100)\n",
    "class_data"
   ]
  },
  {
   "cell_type": "markdown",
   "metadata": {
    "pycharm": {
     "name": "#%% md\n"
    }
   },
   "source": [
    "Люди из высших классов имели больше шансов выжить. 58% людей из высшего класса, 53% людей из среднего класса и только 25% процентов людей из низшего класса выжили."
   ]
  },
  {
   "cell_type": "code",
   "execution_count": 48,
   "metadata": {},
   "outputs": [
    {
     "data": {
      "text/plain": "          count    sum  survival_ratio\nEmbarked                              \nC         22187  16669            75.0\nQ          5424   3238            60.0\nS         72139  22745            32.0",
      "text/html": "<div>\n<style scoped>\n    .dataframe tbody tr th:only-of-type {\n        vertical-align: middle;\n    }\n\n    .dataframe tbody tr th {\n        vertical-align: top;\n    }\n\n    .dataframe thead th {\n        text-align: right;\n    }\n</style>\n<table border=\"1\" class=\"dataframe\">\n  <thead>\n    <tr style=\"text-align: right;\">\n      <th></th>\n      <th>count</th>\n      <th>sum</th>\n      <th>survival_ratio</th>\n    </tr>\n    <tr>\n      <th>Embarked</th>\n      <th></th>\n      <th></th>\n      <th></th>\n    </tr>\n  </thead>\n  <tbody>\n    <tr>\n      <th>C</th>\n      <td>22187</td>\n      <td>16669</td>\n      <td>75.0</td>\n    </tr>\n    <tr>\n      <th>Q</th>\n      <td>5424</td>\n      <td>3238</td>\n      <td>60.0</td>\n    </tr>\n    <tr>\n      <th>S</th>\n      <td>72139</td>\n      <td>22745</td>\n      <td>32.0</td>\n    </tr>\n  </tbody>\n</table>\n</div>"
     },
     "execution_count": 48,
     "metadata": {},
     "output_type": "execute_result"
    }
   ],
   "source": [
    "embarked_survival_data = data.groupby('Embarked').Survived.agg(['count', 'sum'])\n",
    "embarked_survival_data['survival_ratio'] = round(embarked_survival_data['sum'] / embarked_survival_data['count'] * 100)\n",
    "embarked_survival_data"
   ]
  },
  {
   "cell_type": "markdown",
   "metadata": {
    "pycharm": {
     "name": "#%% md\n"
    }
   },
   "source": [
    "Пассажиры, что ступили на борт в порту Саутгемптоне имели шанс на выживание всего 32%. В других портах шанс погибнуть был меньше, шанса выжить."
   ]
  },
  {
   "cell_type": "markdown",
   "metadata": {
    "pycharm": {
     "name": "#%% md\n"
    }
   },
   "source": [
    "На диаграмах ниже можно визуально наблюдать эти же сведения."
   ]
  },
  {
   "cell_type": "code",
   "execution_count": 49,
   "metadata": {
    "pycharm": {
     "name": "#%%\n"
    }
   },
   "outputs": [
    {
     "data": {
      "text/plain": "<AxesSubplot:xlabel='Survived', ylabel='Pclass'>"
     },
     "execution_count": 49,
     "metadata": {},
     "output_type": "execute_result"
    },
    {
     "data": {
      "text/plain": "<Figure size 432x288 with 2 Axes>",
      "image/png": "[encoded data removed]"
     },
     "metadata": {
      "needs_background": "light"
     },
     "output_type": "display_data"
    }
   ],
   "source": [
    "group = data.groupby(['Pclass', 'Survived'])\n",
    "pclass_survived = group.size().unstack()\n",
    "\n",
    "sns.heatmap(pclass_survived, annot=True, fmt=\"d\", cmap=sns.light_palette(\"#2ecc71\", as_cmap=True))"
   ]
  },
  {
   "cell_type": "code",
   "execution_count": 50,
   "metadata": {
    "pycharm": {
     "name": "#%%\n"
    }
   },
   "outputs": [
    {
     "data": {
      "text/plain": "<AxesSubplot:xlabel='Survived', ylabel='Embarked'>"
     },
     "execution_count": 50,
     "metadata": {},
     "output_type": "execute_result"
    },
    {
     "data": {
      "text/plain": "<Figure size 432x288 with 2 Axes>",
      "image/png": "[encoded data removed]"
     },
     "metadata": {
      "needs_background": "light"
     },
     "output_type": "display_data"
    }
   ],
   "source": [
    "group = data.groupby(['Embarked', 'Survived'])\n",
    "pclass_survived = group.size().unstack()\n",
    "\n",
    "sns.heatmap(pclass_survived, annot=True, fmt=\"d\", cmap=sns.light_palette(\"#2ecc71\", as_cmap=True))"
   ]
  },
  {
   "cell_type": "code",
   "execution_count": 51,
   "metadata": {
    "pycharm": {
     "name": "#%%\n"
    }
   },
   "outputs": [
    {
     "data": {
      "text/plain": "<AxesSubplot:xlabel='Sex', ylabel='Embarked'>"
     },
     "execution_count": 51,
     "metadata": {},
     "output_type": "execute_result"
    },
    {
     "data": {
      "text/plain": "<Figure size 432x288 with 2 Axes>",
      "image/png": "[encoded data removed]"
     },
     "metadata": {
      "needs_background": "light"
     },
     "output_type": "display_data"
    }
   ],
   "source": [
    "group = data.groupby(['Embarked', 'Sex'])\n",
    "pclass_survived = group.size().unstack()\n",
    "\n",
    "sns.heatmap(pclass_survived, annot=True, fmt=\"d\", cmap=sns.light_palette(\"#2ecc71\", as_cmap=True))"
   ]
  },
  {
   "cell_type": "code",
   "execution_count": 52,
   "metadata": {
    "pycharm": {
     "name": "#%%\n"
    }
   },
   "outputs": [
    {
     "data": {
      "text/plain": "count    99866.00000\nmean        43.92933\nstd         69.58882\nmin          0.68000\n25%         10.04000\n50%         24.46000\n75%         33.50000\nmax        744.66000\nName: Fare, dtype: float64"
     },
     "execution_count": 52,
     "metadata": {},
     "output_type": "execute_result"
    }
   ],
   "source": [
    "data.Fare.describe()"
   ]
  },
  {
   "cell_type": "code",
   "execution_count": 53,
   "metadata": {
    "pycharm": {
     "name": "#%%\n"
    }
   },
   "outputs": [
    {
     "data": {
      "text/plain": "(24.46, 43.92933040273962)"
     },
     "execution_count": 53,
     "metadata": {},
     "output_type": "execute_result"
    }
   ],
   "source": [
    "(data.Fare.median(), data.Fare.mean())"
   ]
  },
  {
   "cell_type": "markdown",
   "metadata": {},
   "source": [
    "### Modelling"
   ]
  },
  {
   "cell_type": "markdown",
   "metadata": {},
   "source": [
    "**(0.5 points)** Find the percentage of missing values for each feature. "
   ]
  },
  {
   "cell_type": "code",
   "execution_count": 54,
   "metadata": {},
   "outputs": [
    {
     "name": "stdout",
     "output_type": "stream",
     "text": [
      "Процент пропущенных значений:\n",
      " Survived      0.000\n",
      "Pclass        0.000\n",
      "Name          0.000\n",
      "Sex           0.000\n",
      "Age           3.292\n",
      "SibSp         0.000\n",
      "Parch         0.000\n",
      "Ticket        4.623\n",
      "Fare          0.134\n",
      "Cabin        67.866\n",
      "Embarked      0.250\n",
      "Age_Range     0.000\n",
      "dtype: float64\n"
     ]
    }
   ],
   "source": [
    "print('Процент пропущенных значений:\\n', round(data.isnull().sum() / data.shape[0] * 100, 5))"
   ]
  },
  {
   "cell_type": "markdown",
   "metadata": {},
   "source": [
    "Think about the ways to handle these missing values for modelling and write your answer below. Which methods would you suggest? What are their advantages and disadvantages?\n",
    "\n",
    "Можно использовать dropna(), через loc. Например, работаем с возрастом и тарифом ( Age и Fare) и исследуем выживание , то код мог выглядеть так\n",
    "`data.loc[:, ['Survived', 'Fare', 'Age']].dropna()`\n",
    "Также можно попробовать заменить Null значения, на другие, подходящие по смыслу и ожиданиям. Делается это с помощью pandas.DataFrame.fillna"
   ]
  },
  {
   "cell_type": "markdown",
   "metadata": {},
   "source": [
    "**(1.5 points)** Prepare the features and train two models (KNN and Logistic Regression) to predict the survival. Compare the results. Use accuracy as a metric. Don't forget about cross-validation!"
   ]
  },
  {
   "cell_type": "code",
   "execution_count": 55,
   "metadata": {
    "pycharm": {
     "name": "#%%\n"
    }
   },
   "outputs": [],
   "source": [
    "from sklearn.linear_model import LogisticRegression\n",
    "from sklearn.model_selection import KFold\n",
    "from sklearn.model_selection import cross_val_score\n",
    "from sklearn.model_selection import cross_val_predict\n",
    "from sklearn.metrics import confusion_matrix, ConfusionMatrixDisplay"
   ]
  },
  {
   "cell_type": "markdown",
   "metadata": {
    "pycharm": {
     "name": "#%% md\n"
    }
   },
   "source": [
    "Подготовим данные\n",
    "\n",
    "План:\n",
    "- Атрибут Sex переделываем в Gender. 1 - жен. 0 - муж.\n",
    "- Embarked может быть Null. Не исключено, что такой объект может быть в тестовых данных, по которым нам предстоит дать прогноз, о том выжил или не выжил пассажир. Т.е. удалять такой объект нельзя. При исследовании мы видели, что больше всего село в порту S и погибших среди других портов тоже тут больше. Если это женщина, то скорее всего она выжила и села в порту S или Q, если мужчина, то погиб и вероятнее всего сел в порту S. Попробуем поставить всем пассажирам Embarked = S, если это мужчина, а если женщина - среднее между Q и S, там где значение Null.\n",
    "- Embarked C, Q, S переделаем в 1, 2, 3\n",
    "- 3% нулевых значений по Age. Меняем на ~значение медианы (Возраст 39 лет).\n",
    "- Нулевые Fare поменяем на ~значение медианы\n",
    "\n",
    "Остановимся пока на этом. Конечно можно усовершенствовать наши данные и дальше, но для этого нужно производить доп. исследования."
   ]
  },
  {
   "cell_type": "code",
   "execution_count": 56,
   "metadata": {
    "pycharm": {
     "name": "#%%\n"
    }
   },
   "outputs": [],
   "source": [
    "def prep_data(data: pd.DataFrame, return_y=True):\n",
    "    work_data = data.copy()\n",
    "\n",
    "    work_data.Sex = np.where(work_data.Sex == 'male', 0, 1)\n",
    "\n",
    "    work_data.Embarked = np.where((work_data.Embarked.isnull()) & (work_data.Sex == 0), 0.35, work_data.Embarked)\n",
    "    work_data.Embarked = np.where((work_data.Embarked.isnull()) & (work_data.Sex == 1), 0.525, work_data.Embarked)\n",
    "    work_data.Embarked = work_data.Embarked.replace(['S', 'C', 'Q', ], [0.3, 0.60, 0.75])\n",
    "\n",
    "    work_data.Age = work_data.Age.fillna(10.0)\n",
    "\n",
    "    work_data.Fare = work_data.Fare.fillna(24.5)\n",
    "\n",
    "    work_data['Family'] = work_data.SibSp + work_data.Parch\n",
    "    work_data['Alone'] = np.where(work_data['Family'] == 0, 1, 0)\n",
    "\n",
    "    X = work_data.loc[:, ['Sex', 'Pclass', 'Embarked', 'Age', 'Fare', 'Family', 'Alone']]\n",
    "\n",
    "    if return_y:\n",
    "        Y = work_data.Survived\n",
    "        return X, Y\n",
    "\n",
    "    return X"
   ]
  },
  {
   "cell_type": "code",
   "execution_count": 57,
   "metadata": {
    "pycharm": {
     "name": "#%%\n"
    }
   },
   "outputs": [],
   "source": [
    "X, Y = prep_data(data)"
   ]
  },
  {
   "cell_type": "code",
   "execution_count": 58,
   "metadata": {
    "pycharm": {
     "name": "#%%\n"
    }
   },
   "outputs": [
    {
     "data": {
      "text/plain": "             Sex  Pclass  Embarked    Age   Fare  Family  Alone\nPassengerId                                                    \n0              0       1       0.3  10.00  27.14       2      0\n1              0       3       0.3  10.00  13.35       0      1\n2              0       3       0.3   0.33  71.29       3      0\n3              0       3       0.3  19.00  13.04       0      1\n4              0       3       0.3  25.00   7.76       0      1\n...          ...     ...       ...    ...    ...     ...    ...\n99995          1       2       0.6  62.00  14.86       0      1\n99996          0       2       0.3  66.00  11.15       0      1\n99997          0       3       0.3  37.00   9.95       0      1\n99998          0       3       0.3  51.00  30.92       1      0\n99999          0       3       0.3  55.00  13.96       0      1\n\n[100000 rows x 7 columns]",
      "text/html": "<div>\n<style scoped>\n    .dataframe tbody tr th:only-of-type {\n        vertical-align: middle;\n    }\n\n    .dataframe tbody tr th {\n        vertical-align: top;\n    }\n\n    .dataframe thead th {\n        text-align: right;\n    }\n</style>\n<table border=\"1\" class=\"dataframe\">\n  <thead>\n    <tr style=\"text-align: right;\">\n      <th></th>\n      <th>Sex</th>\n      <th>Pclass</th>\n      <th>Embarked</th>\n      <th>Age</th>\n      <th>Fare</th>\n      <th>Family</th>\n      <th>Alone</th>\n    </tr>\n    <tr>\n      <th>PassengerId</th>\n      <th></th>\n      <th></th>\n      <th></th>\n      <th></th>\n      <th></th>\n      <th></th>\n      <th></th>\n    </tr>\n  </thead>\n  <tbody>\n    <tr>\n      <th>0</th>\n      <td>0</td>\n      <td>1</td>\n      <td>0.3</td>\n      <td>10.00</td>\n      <td>27.14</td>\n      <td>2</td>\n      <td>0</td>\n    </tr>\n    <tr>\n      <th>1</th>\n      <td>0</td>\n      <td>3</td>\n      <td>0.3</td>\n      <td>10.00</td>\n      <td>13.35</td>\n      <td>0</td>\n      <td>1</td>\n    </tr>\n    <tr>\n      <th>2</th>\n      <td>0</td>\n      <td>3</td>\n      <td>0.3</td>\n      <td>0.33</td>\n      <td>71.29</td>\n      <td>3</td>\n      <td>0</td>\n    </tr>\n    <tr>\n      <th>3</th>\n      <td>0</td>\n      <td>3</td>\n      <td>0.3</td>\n      <td>19.00</td>\n      <td>13.04</td>\n      <td>0</td>\n      <td>1</td>\n    </tr>\n    <tr>\n      <th>4</th>\n      <td>0</td>\n      <td>3</td>\n      <td>0.3</td>\n      <td>25.00</td>\n      <td>7.76</td>\n      <td>0</td>\n      <td>1</td>\n    </tr>\n    <tr>\n      <th>...</th>\n      <td>...</td>\n      <td>...</td>\n      <td>...</td>\n      <td>...</td>\n      <td>...</td>\n      <td>...</td>\n      <td>...</td>\n    </tr>\n    <tr>\n      <th>99995</th>\n      <td>1</td>\n      <td>2</td>\n      <td>0.6</td>\n      <td>62.00</td>\n      <td>14.86</td>\n      <td>0</td>\n      <td>1</td>\n    </tr>\n    <tr>\n      <th>99996</th>\n      <td>0</td>\n      <td>2</td>\n      <td>0.3</td>\n      <td>66.00</td>\n      <td>11.15</td>\n      <td>0</td>\n      <td>1</td>\n    </tr>\n    <tr>\n      <th>99997</th>\n      <td>0</td>\n      <td>3</td>\n      <td>0.3</td>\n      <td>37.00</td>\n      <td>9.95</td>\n      <td>0</td>\n      <td>1</td>\n    </tr>\n    <tr>\n      <th>99998</th>\n      <td>0</td>\n      <td>3</td>\n      <td>0.3</td>\n      <td>51.00</td>\n      <td>30.92</td>\n      <td>1</td>\n      <td>0</td>\n    </tr>\n    <tr>\n      <th>99999</th>\n      <td>0</td>\n      <td>3</td>\n      <td>0.3</td>\n      <td>55.00</td>\n      <td>13.96</td>\n      <td>0</td>\n      <td>1</td>\n    </tr>\n  </tbody>\n</table>\n<p>100000 rows × 7 columns</p>\n</div>"
     },
     "execution_count": 58,
     "metadata": {},
     "output_type": "execute_result"
    }
   ],
   "source": [
    "X"
   ]
  },
  {
   "cell_type": "code",
   "execution_count": 59,
   "metadata": {
    "pycharm": {
     "name": "#%%\n"
    }
   },
   "outputs": [
    {
     "name": "stdout",
     "output_type": "stream",
     "text": [
      "Процент пропущенных значений:\n",
      " Sex         0.0\n",
      "Pclass      0.0\n",
      "Embarked    0.0\n",
      "Age         0.0\n",
      "Fare        0.0\n",
      "Family      0.0\n",
      "Alone       0.0\n",
      "dtype: float64\n"
     ]
    }
   ],
   "source": [
    "print('Процент пропущенных значений:\\n', round(X.isnull().sum() / X.shape[0] * 100, 5))"
   ]
  },
  {
   "cell_type": "markdown",
   "metadata": {
    "pycharm": {
     "name": "#%% md\n"
    }
   },
   "source": [
    "Создадим функцию, которая будет выводить текстовые сведения по [Confusion Matrix](https://en.wikipedia.org/wiki/Confusion_matrix)"
   ]
  },
  {
   "cell_type": "code",
   "execution_count": 60,
   "metadata": {
    "pycharm": {
     "name": "#%%\n"
    }
   },
   "outputs": [],
   "source": [
    "def describe_conf_matrix_results(confusion_matrix_results):\n",
    "    tn, fp, fn, tp = confusion_matrix_results.ravel()\n",
    "    print('Позитив - выжил, негатив - погиб')\n",
    "    display(pd.DataFrame((\n",
    "        ('выжил', 'выжил', 'TP', tp),\n",
    "        ('погиб', 'выжил', 'FN', fn),\n",
    "        ('погиб', 'погиб', 'TN', tn),\n",
    "        ('выжил', 'погиб', 'FP', fp),\n",
    "    ), columns=['УТВЕРЖДАЕМ', 'РЕАЛЬНОСТЬ', 'МЕТКА', 'КОЛИЧЕСТВО РАЗ']))\n",
    "    print('Значение Accuracy составляет', (tp + tn) / (tp + tn + fp + fn))"
   ]
  },
  {
   "cell_type": "markdown",
   "metadata": {
    "pycharm": {
     "name": "#%% md\n"
    }
   },
   "source": [
    "Создадим функцию, которая будет выводить визуальные данные по Confusion Matrix"
   ]
  },
  {
   "cell_type": "code",
   "execution_count": 61,
   "metadata": {
    "pycharm": {
     "name": "#%%\n"
    }
   },
   "outputs": [],
   "source": [
    "def confusion_matrix_display(confusion_matrix_results):\n",
    "    disp = ConfusionMatrixDisplay(confusion_matrix=confusion_matrix_results)\n",
    "    disp.plot()\n",
    "    plt.show()"
   ]
  },
  {
   "cell_type": "markdown",
   "metadata": {
    "pycharm": {
     "name": "#%% md\n"
    }
   },
   "source": [
    "Создадим две модели KNN и Logistic Regression. Посмотрим на результаты."
   ]
  },
  {
   "cell_type": "code",
   "execution_count": 62,
   "metadata": {
    "pycharm": {
     "name": "#%%\n"
    }
   },
   "outputs": [
    {
     "data": {
      "text/plain": "array([0.7502, 0.7376, 0.7378, 0.7468, 0.7439, 0.7334, 0.7357, 0.7389,\n       0.7366, 0.7417])"
     },
     "metadata": {},
     "output_type": "display_data"
    },
    {
     "data": {
      "text/plain": "<Figure size 432x288 with 2 Axes>",
      "image/png": "[encoded data removed]"
     },
     "metadata": {
      "needs_background": "light"
     },
     "output_type": "display_data"
    },
    {
     "name": "stdout",
     "output_type": "stream",
     "text": [
      "Позитив - выжил, негатив - погиб\n"
     ]
    },
    {
     "data": {
      "text/plain": "  УТВЕРЖДАЕМ РЕАЛЬНОСТЬ МЕТКА  КОЛИЧЕСТВО РАЗ\n0      выжил      выжил    TP           29272\n1      погиб      выжил    FN           13502\n2      погиб      погиб    TN           44754\n3      выжил      погиб    FP           12472",
      "text/html": "<div>\n<style scoped>\n    .dataframe tbody tr th:only-of-type {\n        vertical-align: middle;\n    }\n\n    .dataframe tbody tr th {\n        vertical-align: top;\n    }\n\n    .dataframe thead th {\n        text-align: right;\n    }\n</style>\n<table border=\"1\" class=\"dataframe\">\n  <thead>\n    <tr style=\"text-align: right;\">\n      <th></th>\n      <th>УТВЕРЖДАЕМ</th>\n      <th>РЕАЛЬНОСТЬ</th>\n      <th>МЕТКА</th>\n      <th>КОЛИЧЕСТВО РАЗ</th>\n    </tr>\n  </thead>\n  <tbody>\n    <tr>\n      <th>0</th>\n      <td>выжил</td>\n      <td>выжил</td>\n      <td>TP</td>\n      <td>29272</td>\n    </tr>\n    <tr>\n      <th>1</th>\n      <td>погиб</td>\n      <td>выжил</td>\n      <td>FN</td>\n      <td>13502</td>\n    </tr>\n    <tr>\n      <th>2</th>\n      <td>погиб</td>\n      <td>погиб</td>\n      <td>TN</td>\n      <td>44754</td>\n    </tr>\n    <tr>\n      <th>3</th>\n      <td>выжил</td>\n      <td>погиб</td>\n      <td>FP</td>\n      <td>12472</td>\n    </tr>\n  </tbody>\n</table>\n</div>"
     },
     "metadata": {},
     "output_type": "display_data"
    },
    {
     "name": "stdout",
     "output_type": "stream",
     "text": [
      "Значение Accuracy составляет 0.74026\n"
     ]
    },
    {
     "data": {
      "text/plain": "array([0.7665, 0.7568, 0.7519, 0.7569, 0.765 , 0.7572, 0.7535, 0.7593,\n       0.7657, 0.7644])"
     },
     "metadata": {},
     "output_type": "display_data"
    },
    {
     "data": {
      "text/plain": "<Figure size 432x288 with 2 Axes>",
      "image/png": "[encoded data removed]"
     },
     "metadata": {
      "needs_background": "light"
     },
     "output_type": "display_data"
    },
    {
     "name": "stdout",
     "output_type": "stream",
     "text": [
      "Позитив - выжил, негатив - погиб\n"
     ]
    },
    {
     "data": {
      "text/plain": "  УТВЕРЖДАЕМ РЕАЛЬНОСТЬ МЕТКА  КОЛИЧЕСТВО РАЗ\n0      выжил      выжил    TP           31274\n1      погиб      выжил    FN           11500\n2      погиб      погиб    TN           44698\n3      выжил      погиб    FP           12528",
      "text/html": "<div>\n<style scoped>\n    .dataframe tbody tr th:only-of-type {\n        vertical-align: middle;\n    }\n\n    .dataframe tbody tr th {\n        vertical-align: top;\n    }\n\n    .dataframe thead th {\n        text-align: right;\n    }\n</style>\n<table border=\"1\" class=\"dataframe\">\n  <thead>\n    <tr style=\"text-align: right;\">\n      <th></th>\n      <th>УТВЕРЖДАЕМ</th>\n      <th>РЕАЛЬНОСТЬ</th>\n      <th>МЕТКА</th>\n      <th>КОЛИЧЕСТВО РАЗ</th>\n    </tr>\n  </thead>\n  <tbody>\n    <tr>\n      <th>0</th>\n      <td>выжил</td>\n      <td>выжил</td>\n      <td>TP</td>\n      <td>31274</td>\n    </tr>\n    <tr>\n      <th>1</th>\n      <td>погиб</td>\n      <td>выжил</td>\n      <td>FN</td>\n      <td>11500</td>\n    </tr>\n    <tr>\n      <th>2</th>\n      <td>погиб</td>\n      <td>погиб</td>\n      <td>TN</td>\n      <td>44698</td>\n    </tr>\n    <tr>\n      <th>3</th>\n      <td>выжил</td>\n      <td>погиб</td>\n      <td>FP</td>\n      <td>12528</td>\n    </tr>\n  </tbody>\n</table>\n</div>"
     },
     "metadata": {},
     "output_type": "display_data"
    },
    {
     "name": "stdout",
     "output_type": "stream",
     "text": [
      "Значение Accuracy составляет 0.75972\n"
     ]
    }
   ],
   "source": [
    "Input_norm = [\n",
    "    ('standardScaler', StandardScaler()),\n",
    "    ('knn', KNeighborsClassifier())]\n",
    "pipeKnn = Pipeline(Input_norm)\n",
    "\n",
    "Input_norm = [\n",
    "    ('standardScaler', StandardScaler()),\n",
    "    ('logreg', LogisticRegression())]\n",
    "pipeLogreg = Pipeline(Input_norm)\n",
    "\n",
    "kfold = KFold(n_splits=10, random_state=77, shuffle=True)\n",
    "\n",
    "pipes = [\n",
    "    pipeKnn,\n",
    "    pipeLogreg,\n",
    "]\n",
    "\n",
    "for pipe in pipes:\n",
    "    scores = cross_val_score(pipe, X, Y, cv=kfold)\n",
    "    display(scores)\n",
    "    y_pred = cross_val_predict(pipe, X, Y, cv=kfold)\n",
    "    conf_mat = confusion_matrix(Y, y_pred)\n",
    "    confusion_matrix_display(conf_mat)\n",
    "    describe_conf_matrix_results(conf_mat)"
   ]
  },
  {
   "cell_type": "markdown",
   "metadata": {},
   "source": [
    "**(0.5 + X points)** Try more feature engineering and hyperparameter tuning to improve the results. You may use either KNN or Logistic Regression (or both)."
   ]
  },
  {
   "cell_type": "markdown",
   "metadata": {
    "pycharm": {
     "name": "#%% md\n"
    }
   },
   "source": [
    "Select the best model, load the test set and make the predictions. Submit them to kaggle and see the results :)\n",
    "\n",
    "**Note**. X points will depend on your kaggle public leaderboard score.\n",
    "$$ f(score) = 1.0, \\ \\ 0.79 \\leq score < 0.80,$$\n",
    "$$ f(score) = 2.5, \\ \\ 0.80 \\leq score < 0.81,$$ \n",
    "$$ f(score) = 4.0, \\ \\ 0.81 \\leq score $$ \n",
    "Your code should generate the output submitted to kaggle. Fix random seeds to make the results reproducible."
   ]
  },
  {
   "cell_type": "markdown",
   "metadata": {
    "pycharm": {
     "name": "#%% md\n"
    }
   },
   "source": [
    "Модель LogisticRegression ведёт себя лучше, чем KNN. LogisticRegression определяет больше корректных выживших и меньше(на ~2000) ошибается, когда прогнозирует погибшего. Выбираем её. Посмотрим на результаты при разных параметрах LogisticRegression"
   ]
  },
  {
   "cell_type": "code",
   "execution_count": 63,
   "metadata": {
    "pycharm": {
     "name": "#%%\n"
    }
   },
   "outputs": [
    {
     "name": "stdout",
     "output_type": "stream",
     "text": [
      "l1 1.0\n",
      "Позитив - выжил, негатив - погиб\n"
     ]
    },
    {
     "data": {
      "text/plain": "  УТВЕРЖДАЕМ РЕАЛЬНОСТЬ МЕТКА  КОЛИЧЕСТВО РАЗ\n0      выжил      выжил    TP           31274\n1      погиб      выжил    FN           11500\n2      погиб      погиб    TN           44699\n3      выжил      погиб    FP           12527",
      "text/html": "<div>\n<style scoped>\n    .dataframe tbody tr th:only-of-type {\n        vertical-align: middle;\n    }\n\n    .dataframe tbody tr th {\n        vertical-align: top;\n    }\n\n    .dataframe thead th {\n        text-align: right;\n    }\n</style>\n<table border=\"1\" class=\"dataframe\">\n  <thead>\n    <tr style=\"text-align: right;\">\n      <th></th>\n      <th>УТВЕРЖДАЕМ</th>\n      <th>РЕАЛЬНОСТЬ</th>\n      <th>МЕТКА</th>\n      <th>КОЛИЧЕСТВО РАЗ</th>\n    </tr>\n  </thead>\n  <tbody>\n    <tr>\n      <th>0</th>\n      <td>выжил</td>\n      <td>выжил</td>\n      <td>TP</td>\n      <td>31274</td>\n    </tr>\n    <tr>\n      <th>1</th>\n      <td>погиб</td>\n      <td>выжил</td>\n      <td>FN</td>\n      <td>11500</td>\n    </tr>\n    <tr>\n      <th>2</th>\n      <td>погиб</td>\n      <td>погиб</td>\n      <td>TN</td>\n      <td>44699</td>\n    </tr>\n    <tr>\n      <th>3</th>\n      <td>выжил</td>\n      <td>погиб</td>\n      <td>FP</td>\n      <td>12527</td>\n    </tr>\n  </tbody>\n</table>\n</div>"
     },
     "metadata": {},
     "output_type": "display_data"
    },
    {
     "name": "stdout",
     "output_type": "stream",
     "text": [
      "Значение Accuracy составляет 0.75973\n",
      "l1 0.5\n",
      "Позитив - выжил, негатив - погиб\n"
     ]
    },
    {
     "data": {
      "text/plain": "  УТВЕРЖДАЕМ РЕАЛЬНОСТЬ МЕТКА  КОЛИЧЕСТВО РАЗ\n0      выжил      выжил    TP           31275\n1      погиб      выжил    FN           11499\n2      погиб      погиб    TN           44698\n3      выжил      погиб    FP           12528",
      "text/html": "<div>\n<style scoped>\n    .dataframe tbody tr th:only-of-type {\n        vertical-align: middle;\n    }\n\n    .dataframe tbody tr th {\n        vertical-align: top;\n    }\n\n    .dataframe thead th {\n        text-align: right;\n    }\n</style>\n<table border=\"1\" class=\"dataframe\">\n  <thead>\n    <tr style=\"text-align: right;\">\n      <th></th>\n      <th>УТВЕРЖДАЕМ</th>\n      <th>РЕАЛЬНОСТЬ</th>\n      <th>МЕТКА</th>\n      <th>КОЛИЧЕСТВО РАЗ</th>\n    </tr>\n  </thead>\n  <tbody>\n    <tr>\n      <th>0</th>\n      <td>выжил</td>\n      <td>выжил</td>\n      <td>TP</td>\n      <td>31275</td>\n    </tr>\n    <tr>\n      <th>1</th>\n      <td>погиб</td>\n      <td>выжил</td>\n      <td>FN</td>\n      <td>11499</td>\n    </tr>\n    <tr>\n      <th>2</th>\n      <td>погиб</td>\n      <td>погиб</td>\n      <td>TN</td>\n      <td>44698</td>\n    </tr>\n    <tr>\n      <th>3</th>\n      <td>выжил</td>\n      <td>погиб</td>\n      <td>FP</td>\n      <td>12528</td>\n    </tr>\n  </tbody>\n</table>\n</div>"
     },
     "metadata": {},
     "output_type": "display_data"
    },
    {
     "name": "stdout",
     "output_type": "stream",
     "text": [
      "Значение Accuracy составляет 0.75973\n",
      "l2 1.0\n",
      "Позитив - выжил, негатив - погиб\n"
     ]
    },
    {
     "data": {
      "text/plain": "  УТВЕРЖДАЕМ РЕАЛЬНОСТЬ МЕТКА  КОЛИЧЕСТВО РАЗ\n0      выжил      выжил    TP           31275\n1      погиб      выжил    FN           11499\n2      погиб      погиб    TN           44698\n3      выжил      погиб    FP           12528",
      "text/html": "<div>\n<style scoped>\n    .dataframe tbody tr th:only-of-type {\n        vertical-align: middle;\n    }\n\n    .dataframe tbody tr th {\n        vertical-align: top;\n    }\n\n    .dataframe thead th {\n        text-align: right;\n    }\n</style>\n<table border=\"1\" class=\"dataframe\">\n  <thead>\n    <tr style=\"text-align: right;\">\n      <th></th>\n      <th>УТВЕРЖДАЕМ</th>\n      <th>РЕАЛЬНОСТЬ</th>\n      <th>МЕТКА</th>\n      <th>КОЛИЧЕСТВО РАЗ</th>\n    </tr>\n  </thead>\n  <tbody>\n    <tr>\n      <th>0</th>\n      <td>выжил</td>\n      <td>выжил</td>\n      <td>TP</td>\n      <td>31275</td>\n    </tr>\n    <tr>\n      <th>1</th>\n      <td>погиб</td>\n      <td>выжил</td>\n      <td>FN</td>\n      <td>11499</td>\n    </tr>\n    <tr>\n      <th>2</th>\n      <td>погиб</td>\n      <td>погиб</td>\n      <td>TN</td>\n      <td>44698</td>\n    </tr>\n    <tr>\n      <th>3</th>\n      <td>выжил</td>\n      <td>погиб</td>\n      <td>FP</td>\n      <td>12528</td>\n    </tr>\n  </tbody>\n</table>\n</div>"
     },
     "metadata": {},
     "output_type": "display_data"
    },
    {
     "name": "stdout",
     "output_type": "stream",
     "text": [
      "Значение Accuracy составляет 0.75973\n",
      "l2 0.5\n",
      "Позитив - выжил, негатив - погиб\n"
     ]
    },
    {
     "data": {
      "text/plain": "  УТВЕРЖДАЕМ РЕАЛЬНОСТЬ МЕТКА  КОЛИЧЕСТВО РАЗ\n0      выжил      выжил    TP           31276\n1      погиб      выжил    FN           11498\n2      погиб      погиб    TN           44698\n3      выжил      погиб    FP           12528",
      "text/html": "<div>\n<style scoped>\n    .dataframe tbody tr th:only-of-type {\n        vertical-align: middle;\n    }\n\n    .dataframe tbody tr th {\n        vertical-align: top;\n    }\n\n    .dataframe thead th {\n        text-align: right;\n    }\n</style>\n<table border=\"1\" class=\"dataframe\">\n  <thead>\n    <tr style=\"text-align: right;\">\n      <th></th>\n      <th>УТВЕРЖДАЕМ</th>\n      <th>РЕАЛЬНОСТЬ</th>\n      <th>МЕТКА</th>\n      <th>КОЛИЧЕСТВО РАЗ</th>\n    </tr>\n  </thead>\n  <tbody>\n    <tr>\n      <th>0</th>\n      <td>выжил</td>\n      <td>выжил</td>\n      <td>TP</td>\n      <td>31276</td>\n    </tr>\n    <tr>\n      <th>1</th>\n      <td>погиб</td>\n      <td>выжил</td>\n      <td>FN</td>\n      <td>11498</td>\n    </tr>\n    <tr>\n      <th>2</th>\n      <td>погиб</td>\n      <td>погиб</td>\n      <td>TN</td>\n      <td>44698</td>\n    </tr>\n    <tr>\n      <th>3</th>\n      <td>выжил</td>\n      <td>погиб</td>\n      <td>FP</td>\n      <td>12528</td>\n    </tr>\n  </tbody>\n</table>\n</div>"
     },
     "metadata": {},
     "output_type": "display_data"
    },
    {
     "name": "stdout",
     "output_type": "stream",
     "text": [
      "Значение Accuracy составляет 0.75974\n"
     ]
    }
   ],
   "source": [
    "for penalty in ['l1', 'l2']:\n",
    "    for c in [1.0, 0.5]:\n",
    "        print(penalty, c)\n",
    "        Input_norm = [\n",
    "            ('standardScaler', StandardScaler()),\n",
    "            ('logreg', LogisticRegression(penalty=penalty, C=c, solver='liblinear', random_state=kfold.random_state))]\n",
    "        pipeLogreg = Pipeline(Input_norm)\n",
    "        y_pred = cross_val_predict(pipeLogreg, X, Y, cv=kfold)\n",
    "        conf_mat = confusion_matrix(Y, y_pred)\n",
    "        describe_conf_matrix_results(conf_mat)"
   ]
  },
  {
   "cell_type": "markdown",
   "metadata": {
    "pycharm": {
     "name": "#%% md\n"
    }
   },
   "source": [
    "Из вышеуказанных результатов L2 и С=0.5 выглядят лучше остальных. Посмотрим на max_iter"
   ]
  },
  {
   "cell_type": "code",
   "execution_count": 64,
   "metadata": {
    "pycharm": {
     "name": "#%%\n"
    }
   },
   "outputs": [
    {
     "name": "stdout",
     "output_type": "stream",
     "text": [
      "True\n",
      "Позитив - выжил, негатив - погиб\n"
     ]
    },
    {
     "data": {
      "text/plain": "  УТВЕРЖДАЕМ РЕАЛЬНОСТЬ МЕТКА  КОЛИЧЕСТВО РАЗ\n0      выжил      выжил    TP           31275\n1      погиб      выжил    FN           11499\n2      погиб      погиб    TN           44698\n3      выжил      погиб    FP           12528",
      "text/html": "<div>\n<style scoped>\n    .dataframe tbody tr th:only-of-type {\n        vertical-align: middle;\n    }\n\n    .dataframe tbody tr th {\n        vertical-align: top;\n    }\n\n    .dataframe thead th {\n        text-align: right;\n    }\n</style>\n<table border=\"1\" class=\"dataframe\">\n  <thead>\n    <tr style=\"text-align: right;\">\n      <th></th>\n      <th>УТВЕРЖДАЕМ</th>\n      <th>РЕАЛЬНОСТЬ</th>\n      <th>МЕТКА</th>\n      <th>КОЛИЧЕСТВО РАЗ</th>\n    </tr>\n  </thead>\n  <tbody>\n    <tr>\n      <th>0</th>\n      <td>выжил</td>\n      <td>выжил</td>\n      <td>TP</td>\n      <td>31275</td>\n    </tr>\n    <tr>\n      <th>1</th>\n      <td>погиб</td>\n      <td>выжил</td>\n      <td>FN</td>\n      <td>11499</td>\n    </tr>\n    <tr>\n      <th>2</th>\n      <td>погиб</td>\n      <td>погиб</td>\n      <td>TN</td>\n      <td>44698</td>\n    </tr>\n    <tr>\n      <th>3</th>\n      <td>выжил</td>\n      <td>погиб</td>\n      <td>FP</td>\n      <td>12528</td>\n    </tr>\n  </tbody>\n</table>\n</div>"
     },
     "metadata": {},
     "output_type": "display_data"
    },
    {
     "name": "stdout",
     "output_type": "stream",
     "text": [
      "Значение Accuracy составляет 0.75973\n",
      "False\n",
      "Позитив - выжил, негатив - погиб\n"
     ]
    },
    {
     "data": {
      "text/plain": "  УТВЕРЖДАЕМ РЕАЛЬНОСТЬ МЕТКА  КОЛИЧЕСТВО РАЗ\n0      выжил      выжил    TP           31273\n1      погиб      выжил    FN           11501\n2      погиб      погиб    TN           44696\n3      выжил      погиб    FP           12530",
      "text/html": "<div>\n<style scoped>\n    .dataframe tbody tr th:only-of-type {\n        vertical-align: middle;\n    }\n\n    .dataframe tbody tr th {\n        vertical-align: top;\n    }\n\n    .dataframe thead th {\n        text-align: right;\n    }\n</style>\n<table border=\"1\" class=\"dataframe\">\n  <thead>\n    <tr style=\"text-align: right;\">\n      <th></th>\n      <th>УТВЕРЖДАЕМ</th>\n      <th>РЕАЛЬНОСТЬ</th>\n      <th>МЕТКА</th>\n      <th>КОЛИЧЕСТВО РАЗ</th>\n    </tr>\n  </thead>\n  <tbody>\n    <tr>\n      <th>0</th>\n      <td>выжил</td>\n      <td>выжил</td>\n      <td>TP</td>\n      <td>31273</td>\n    </tr>\n    <tr>\n      <th>1</th>\n      <td>погиб</td>\n      <td>выжил</td>\n      <td>FN</td>\n      <td>11501</td>\n    </tr>\n    <tr>\n      <th>2</th>\n      <td>погиб</td>\n      <td>погиб</td>\n      <td>TN</td>\n      <td>44696</td>\n    </tr>\n    <tr>\n      <th>3</th>\n      <td>выжил</td>\n      <td>погиб</td>\n      <td>FP</td>\n      <td>12530</td>\n    </tr>\n  </tbody>\n</table>\n</div>"
     },
     "metadata": {},
     "output_type": "display_data"
    },
    {
     "name": "stdout",
     "output_type": "stream",
     "text": [
      "Значение Accuracy составляет 0.75969\n"
     ]
    }
   ],
   "source": [
    "for with_std in [True, False]:\n",
    "    print(with_std)\n",
    "    Input_norm = [\n",
    "        ('standardScaler', StandardScaler(with_std=True,with_mean=with_std)),\n",
    "        ('logreg', LogisticRegression(penalty='l2', C=1, solver='liblinear', random_state=kfold.random_state))]\n",
    "    pipeLogreg = Pipeline(Input_norm)\n",
    "    y_pred = cross_val_predict(pipeLogreg, X, Y, cv=kfold)\n",
    "    conf_mat = confusion_matrix(Y, y_pred)\n",
    "    describe_conf_matrix_results(conf_mat)"
   ]
  },
  {
   "cell_type": "code",
   "execution_count": 65,
   "metadata": {
    "pycharm": {
     "name": "#%%\n"
    }
   },
   "outputs": [
    {
     "data": {
      "text/plain": "Pipeline(steps=[('standardScaler', StandardScaler(with_mean=False)),\n                ('logreg',\n                 LogisticRegression(C=1, random_state=77, solver='liblinear'))])"
     },
     "execution_count": 65,
     "metadata": {},
     "output_type": "execute_result"
    }
   ],
   "source": [
    "pipeLogreg.fit(X, Y)"
   ]
  },
  {
   "cell_type": "code",
   "execution_count": 66,
   "metadata": {
    "pycharm": {
     "name": "#%%\n"
    }
   },
   "outputs": [],
   "source": [
    "test_data = pd.read_csv(os.path.join(PATH, 'titanic', 'test.csv')).set_index('PassengerId')"
   ]
  },
  {
   "cell_type": "code",
   "execution_count": 67,
   "metadata": {
    "pycharm": {
     "name": "#%%\n"
    }
   },
   "outputs": [
    {
     "data": {
      "text/plain": "             Pclass              Name     Sex   Age  SibSp  Parch  Ticket  \\\nPassengerId                                                                 \n100000            3  Holliday, Daniel    male  19.0      0      0   24745   \n100001            3  Nguyen, Lorraine  female  53.0      0      0   13264   \n100002            1   Harris, Heather  female  19.0      0      0   25990   \n100003            2      Larsen, Eric    male  25.0      0      0  314011   \n100004            1     Cleary, Sarah  female  17.0      0      2   26203   \n\n              Fare   Cabin Embarked  \nPassengerId                          \n100000       63.01     NaN        S  \n100001        5.81     NaN        S  \n100002       38.91  B15315        C  \n100003       12.93     NaN        S  \n100004       26.89  B22515        C  ",
      "text/html": "<div>\n<style scoped>\n    .dataframe tbody tr th:only-of-type {\n        vertical-align: middle;\n    }\n\n    .dataframe tbody tr th {\n        vertical-align: top;\n    }\n\n    .dataframe thead th {\n        text-align: right;\n    }\n</style>\n<table border=\"1\" class=\"dataframe\">\n  <thead>\n    <tr style=\"text-align: right;\">\n      <th></th>\n      <th>Pclass</th>\n      <th>Name</th>\n      <th>Sex</th>\n      <th>Age</th>\n      <th>SibSp</th>\n      <th>Parch</th>\n      <th>Ticket</th>\n      <th>Fare</th>\n      <th>Cabin</th>\n      <th>Embarked</th>\n    </tr>\n    <tr>\n      <th>PassengerId</th>\n      <th></th>\n      <th></th>\n      <th></th>\n      <th></th>\n      <th></th>\n      <th></th>\n      <th></th>\n      <th></th>\n      <th></th>\n      <th></th>\n    </tr>\n  </thead>\n  <tbody>\n    <tr>\n      <th>100000</th>\n      <td>3</td>\n      <td>Holliday, Daniel</td>\n      <td>male</td>\n      <td>19.0</td>\n      <td>0</td>\n      <td>0</td>\n      <td>24745</td>\n      <td>63.01</td>\n      <td>NaN</td>\n      <td>S</td>\n    </tr>\n    <tr>\n      <th>100001</th>\n      <td>3</td>\n      <td>Nguyen, Lorraine</td>\n      <td>female</td>\n      <td>53.0</td>\n      <td>0</td>\n      <td>0</td>\n      <td>13264</td>\n      <td>5.81</td>\n      <td>NaN</td>\n      <td>S</td>\n    </tr>\n    <tr>\n      <th>100002</th>\n      <td>1</td>\n      <td>Harris, Heather</td>\n      <td>female</td>\n      <td>19.0</td>\n      <td>0</td>\n      <td>0</td>\n      <td>25990</td>\n      <td>38.91</td>\n      <td>B15315</td>\n      <td>C</td>\n    </tr>\n    <tr>\n      <th>100003</th>\n      <td>2</td>\n      <td>Larsen, Eric</td>\n      <td>male</td>\n      <td>25.0</td>\n      <td>0</td>\n      <td>0</td>\n      <td>314011</td>\n      <td>12.93</td>\n      <td>NaN</td>\n      <td>S</td>\n    </tr>\n    <tr>\n      <th>100004</th>\n      <td>1</td>\n      <td>Cleary, Sarah</td>\n      <td>female</td>\n      <td>17.0</td>\n      <td>0</td>\n      <td>2</td>\n      <td>26203</td>\n      <td>26.89</td>\n      <td>B22515</td>\n      <td>C</td>\n    </tr>\n  </tbody>\n</table>\n</div>"
     },
     "execution_count": 67,
     "metadata": {},
     "output_type": "execute_result"
    }
   ],
   "source": [
    "test_data.head()"
   ]
  },
  {
   "cell_type": "code",
   "execution_count": 68,
   "metadata": {
    "pycharm": {
     "name": "#%%\n"
    }
   },
   "outputs": [],
   "source": [
    "X_test = prep_data(test_data, False)"
   ]
  },
  {
   "cell_type": "code",
   "execution_count": 69,
   "metadata": {
    "pycharm": {
     "name": "#%%\n"
    }
   },
   "outputs": [],
   "source": [
    "Y_pred_test = pipeLogreg.predict(X_test)"
   ]
  },
  {
   "cell_type": "code",
   "execution_count": 70,
   "metadata": {
    "pycharm": {
     "name": "#%%\n"
    }
   },
   "outputs": [],
   "source": [
    "results = pd.DataFrame({'Survived': Y_pred_test.astype('int64')}, index=test_data.index)"
   ]
  },
  {
   "cell_type": "code",
   "execution_count": 71,
   "metadata": {
    "pycharm": {
     "name": "#%%\n"
    }
   },
   "outputs": [],
   "source": [
    "results.to_csv(os.path.join(PATH, 'titanic', 'submission.csv'))"
   ]
  },
  {
   "cell_type": "markdown",
   "metadata": {
    "pycharm": {
     "name": "#%% md\n"
    }
   },
   "source": [
    "[Результаты score на kaggle](https://github.com/githubjeka/ml-intro/blob/main/tmp/Screenshot_2.png)"
   ]
  }
 ],
 "metadata": {
  "kernelspec": {
   "display_name": "Python 3 (ipykernel)",
   "language": "python",
   "name": "python3"
  },
  "language_info": {
   "codemirror_mode": {
    "name": "ipython",
    "version": 3
   },
   "file_extension": ".py",
   "mimetype": "text/x-python",
   "name": "python",
   "nbconvert_exporter": "python",
   "pygments_lexer": "ipython3",
   "version": "3.10.0"
  }
 },
 "nbformat": 4,
 "nbformat_minor": 4
}