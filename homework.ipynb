{
 "cells": [
  {
   "cell_type": "code",
   "execution_count": 1,
   "metadata": {},
   "outputs": [],
   "source": [
    "import numpy as np\n",
    "import pandas as pd\n",
    "import seaborn as sns\n",
    "import matplotlib.pyplot as plt\n",
    "\n",
    "from sklearn.impute import SimpleImputer\n",
    "from sklearn.preprocessing import StandardScaler, MinMaxScaler, OrdinalEncoder, OneHotEncoder\n",
    "from sklearn.decomposition import PCA\n",
    "\n",
    "from sklearn.feature_selection import VarianceThreshold, SelectFromModel, RFECV, SequentialFeatureSelector\n",
    "\n",
    "from sklearn.ensemble import RandomForestClassifier, RandomForestRegressor\n",
    "from sklearn.linear_model import LogisticRegression\n",
    "\n",
    "from sklearn.model_selection import KFold, cross_val_score, train_test_split\n",
    "from sklearn.pipeline import Pipeline, make_pipeline\n",
    "from sklearn.metrics import accuracy_score\n",
    "\n",
    "from sklearn.datasets import make_classification, load_wine, load_breast_cancer, load_diabetes, load_digits"
   ]
  },
  {
   "cell_type": "code",
   "execution_count": 2,
   "metadata": {},
   "outputs": [],
   "source": [
    "def plot_scatter(x, y, auto_scaled=True, title=None, clusters=None):\n",
    "    plt.figure(figsize=(4, 4))\n",
    "    plt.scatter(x, y, c=clusters, cmap='bwr')\n",
    "\n",
    "    if not auto_scaled:\n",
    "        plt.axis('square')\n",
    "\n",
    "    plt.grid(True)\n",
    "    plt.title(title)\n",
    "\n",
    "    plt.show()\n",
    "\n",
    "\n",
    "def return_X_y(data, target_column):\n",
    "    return data.drop(target_column, axis=1), data[target_column]"
   ]
  },
  {
   "cell_type": "code",
   "execution_count": 3,
   "metadata": {},
   "outputs": [],
   "source": [
    "wine_sklearn = load_wine(as_frame=True)\n",
    "wine_data, wine_labels = wine_sklearn['data'], wine_sklearn['target']"
   ]
  },
  {
   "cell_type": "markdown",
   "metadata": {},
   "source": [
    "# Homework"
   ]
  },
  {
   "cell_type": "markdown",
   "metadata": {},
   "source": [
    "## Exercise  1 - Scaling (2 points)"
   ]
  },
  {
   "cell_type": "markdown",
   "metadata": {},
   "source": [
    "Perform standardization for wine dataset (`wine_data`) using only basic python, numpy and pandas (without using `StandardScaler` and sklearn at all). Implementation of function (or class) that can get dataset as input and return standardized dataset as output is preferrable, but not necessary.\n",
    "\n",
    "Compare you results (output) with `StandardScaler`.\n",
    "\n",
    "**NOTE:**\n",
    "\n",
    "- 1 point for functional version, 2 points for implementing scaling as sklearn pipeline compartible class. \n",
    "- Maximum for the exercise is 2 points.\n"
   ]
  },
  {
   "cell_type": "markdown",
   "metadata": {},
   "source": [
    "### Simple version (1 point)"
   ]
  },
  {
   "cell_type": "code",
   "execution_count": 4,
   "metadata": {
    "pycharm": {
     "name": "#%%\n"
    }
   },
   "outputs": [
    {
     "data": {
      "text/plain": "     alcohol  malic_acid   ash  alcalinity_of_ash  magnesium  total_phenols  \\\n0      14.23        1.71  2.43               15.6      127.0           2.80   \n1      13.20        1.78  2.14               11.2      100.0           2.65   \n2      13.16        2.36  2.67               18.6      101.0           2.80   \n3      14.37        1.95  2.50               16.8      113.0           3.85   \n4      13.24        2.59  2.87               21.0      118.0           2.80   \n..       ...         ...   ...                ...        ...            ...   \n173    13.71        5.65  2.45               20.5       95.0           1.68   \n174    13.40        3.91  2.48               23.0      102.0           1.80   \n175    13.27        4.28  2.26               20.0      120.0           1.59   \n176    13.17        2.59  2.37               20.0      120.0           1.65   \n177    14.13        4.10  2.74               24.5       96.0           2.05   \n\n     flavanoids  nonflavanoid_phenols  proanthocyanins  color_intensity   hue  \\\n0          3.06                  0.28             2.29             5.64  1.04   \n1          2.76                  0.26             1.28             4.38  1.05   \n2          3.24                  0.30             2.81             5.68  1.03   \n3          3.49                  0.24             2.18             7.80  0.86   \n4          2.69                  0.39             1.82             4.32  1.04   \n..          ...                   ...              ...              ...   ...   \n173        0.61                  0.52             1.06             7.70  0.64   \n174        0.75                  0.43             1.41             7.30  0.70   \n175        0.69                  0.43             1.35            10.20  0.59   \n176        0.68                  0.53             1.46             9.30  0.60   \n177        0.76                  0.56             1.35             9.20  0.61   \n\n     od280/od315_of_diluted_wines  proline  \n0                            3.92   1065.0  \n1                            3.40   1050.0  \n2                            3.17   1185.0  \n3                            3.45   1480.0  \n4                            2.93    735.0  \n..                            ...      ...  \n173                          1.74    740.0  \n174                          1.56    750.0  \n175                          1.56    835.0  \n176                          1.62    840.0  \n177                          1.60    560.0  \n\n[178 rows x 13 columns]",
      "text/html": "<div>\n<style scoped>\n    .dataframe tbody tr th:only-of-type {\n        vertical-align: middle;\n    }\n\n    .dataframe tbody tr th {\n        vertical-align: top;\n    }\n\n    .dataframe thead th {\n        text-align: right;\n    }\n</style>\n<table border=\"1\" class=\"dataframe\">\n  <thead>\n    <tr style=\"text-align: right;\">\n      <th></th>\n      <th>alcohol</th>\n      <th>malic_acid</th>\n      <th>ash</th>\n      <th>alcalinity_of_ash</th>\n      <th>magnesium</th>\n      <th>total_phenols</th>\n      <th>flavanoids</th>\n      <th>nonflavanoid_phenols</th>\n      <th>proanthocyanins</th>\n      <th>color_intensity</th>\n      <th>hue</th>\n      <th>od280/od315_of_diluted_wines</th>\n      <th>proline</th>\n    </tr>\n  </thead>\n  <tbody>\n    <tr>\n      <th>0</th>\n      <td>14.23</td>\n      <td>1.71</td>\n      <td>2.43</td>\n      <td>15.6</td>\n      <td>127.0</td>\n      <td>2.80</td>\n      <td>3.06</td>\n      <td>0.28</td>\n      <td>2.29</td>\n      <td>5.64</td>\n      <td>1.04</td>\n      <td>3.92</td>\n      <td>1065.0</td>\n    </tr>\n    <tr>\n      <th>1</th>\n      <td>13.20</td>\n      <td>1.78</td>\n      <td>2.14</td>\n      <td>11.2</td>\n      <td>100.0</td>\n      <td>2.65</td>\n      <td>2.76</td>\n      <td>0.26</td>\n      <td>1.28</td>\n      <td>4.38</td>\n      <td>1.05</td>\n      <td>3.40</td>\n      <td>1050.0</td>\n    </tr>\n    <tr>\n      <th>2</th>\n      <td>13.16</td>\n      <td>2.36</td>\n      <td>2.67</td>\n      <td>18.6</td>\n      <td>101.0</td>\n      <td>2.80</td>\n      <td>3.24</td>\n      <td>0.30</td>\n      <td>2.81</td>\n      <td>5.68</td>\n      <td>1.03</td>\n      <td>3.17</td>\n      <td>1185.0</td>\n    </tr>\n    <tr>\n      <th>3</th>\n      <td>14.37</td>\n      <td>1.95</td>\n      <td>2.50</td>\n      <td>16.8</td>\n      <td>113.0</td>\n      <td>3.85</td>\n      <td>3.49</td>\n      <td>0.24</td>\n      <td>2.18</td>\n      <td>7.80</td>\n      <td>0.86</td>\n      <td>3.45</td>\n      <td>1480.0</td>\n    </tr>\n    <tr>\n      <th>4</th>\n      <td>13.24</td>\n      <td>2.59</td>\n      <td>2.87</td>\n      <td>21.0</td>\n      <td>118.0</td>\n      <td>2.80</td>\n      <td>2.69</td>\n      <td>0.39</td>\n      <td>1.82</td>\n      <td>4.32</td>\n      <td>1.04</td>\n      <td>2.93</td>\n      <td>735.0</td>\n    </tr>\n    <tr>\n      <th>...</th>\n      <td>...</td>\n      <td>...</td>\n      <td>...</td>\n      <td>...</td>\n      <td>...</td>\n      <td>...</td>\n      <td>...</td>\n      <td>...</td>\n      <td>...</td>\n      <td>...</td>\n      <td>...</td>\n      <td>...</td>\n      <td>...</td>\n    </tr>\n    <tr>\n      <th>173</th>\n      <td>13.71</td>\n      <td>5.65</td>\n      <td>2.45</td>\n      <td>20.5</td>\n      <td>95.0</td>\n      <td>1.68</td>\n      <td>0.61</td>\n      <td>0.52</td>\n      <td>1.06</td>\n      <td>7.70</td>\n      <td>0.64</td>\n      <td>1.74</td>\n      <td>740.0</td>\n    </tr>\n    <tr>\n      <th>174</th>\n      <td>13.40</td>\n      <td>3.91</td>\n      <td>2.48</td>\n      <td>23.0</td>\n      <td>102.0</td>\n      <td>1.80</td>\n      <td>0.75</td>\n      <td>0.43</td>\n      <td>1.41</td>\n      <td>7.30</td>\n      <td>0.70</td>\n      <td>1.56</td>\n      <td>750.0</td>\n    </tr>\n    <tr>\n      <th>175</th>\n      <td>13.27</td>\n      <td>4.28</td>\n      <td>2.26</td>\n      <td>20.0</td>\n      <td>120.0</td>\n      <td>1.59</td>\n      <td>0.69</td>\n      <td>0.43</td>\n      <td>1.35</td>\n      <td>10.20</td>\n      <td>0.59</td>\n      <td>1.56</td>\n      <td>835.0</td>\n    </tr>\n    <tr>\n      <th>176</th>\n      <td>13.17</td>\n      <td>2.59</td>\n      <td>2.37</td>\n      <td>20.0</td>\n      <td>120.0</td>\n      <td>1.65</td>\n      <td>0.68</td>\n      <td>0.53</td>\n      <td>1.46</td>\n      <td>9.30</td>\n      <td>0.60</td>\n      <td>1.62</td>\n      <td>840.0</td>\n    </tr>\n    <tr>\n      <th>177</th>\n      <td>14.13</td>\n      <td>4.10</td>\n      <td>2.74</td>\n      <td>24.5</td>\n      <td>96.0</td>\n      <td>2.05</td>\n      <td>0.76</td>\n      <td>0.56</td>\n      <td>1.35</td>\n      <td>9.20</td>\n      <td>0.61</td>\n      <td>1.60</td>\n      <td>560.0</td>\n    </tr>\n  </tbody>\n</table>\n<p>178 rows × 13 columns</p>\n</div>"
     },
     "execution_count": 4,
     "metadata": {},
     "output_type": "execute_result"
    }
   ],
   "source": [
    "wine_data"
   ]
  },
  {
   "cell_type": "markdown",
   "metadata": {
    "pycharm": {
     "name": "#%% md\n"
    }
   },
   "source": [
    "Формула Standard Scaling (or Z-score normalization):\n",
    "\n",
    "$$ \\large z= \\frac{x-\\mu}{\\sigma} $$"
   ]
  },
  {
   "cell_type": "code",
   "execution_count": 5,
   "metadata": {},
   "outputs": [],
   "source": [
    "# 1 point\n",
    "def z_score_scale(X):\n",
    "    mean = np.mean(X, axis=0)\n",
    "    std = np.std(X)\n",
    "    zscore = (X - mean) / std\n",
    "    return zscore"
   ]
  },
  {
   "cell_type": "code",
   "execution_count": 6,
   "metadata": {
    "pycharm": {
     "name": "#%%\n"
    }
   },
   "outputs": [
    {
     "data": {
      "text/plain": "      alcohol  malic_acid       ash  alcalinity_of_ash  magnesium  \\\n0    1.518613   -0.562250  0.232053          -1.169593   1.913905   \n1    0.246290   -0.499413 -0.827996          -2.490847   0.018145   \n2    0.196879    0.021231  1.109334          -0.268738   0.088358   \n3    1.691550   -0.346811  0.487926          -0.809251   0.930918   \n4    0.295700    0.227694  1.840403           0.451946   1.281985   \n..        ...         ...       ...                ...        ...   \n173  0.876275    2.974543  0.305159           0.301803  -0.332922   \n174  0.493343    1.412609  0.414820           1.052516   0.158572   \n175  0.332758    1.744744 -0.389355           0.151661   1.422412   \n176  0.209232    0.227694  0.012732           0.151661   1.422412   \n177  1.395086    1.583165  1.365208           1.502943  -0.262708   \n\n     total_phenols  flavanoids  nonflavanoid_phenols  proanthocyanins  \\\n0         0.808997    1.034819             -0.659563         1.224884   \n1         0.568648    0.733629             -0.820719        -0.544721   \n2         0.808997    1.215533             -0.498407         2.135968   \n3         2.491446    1.466525             -0.981875         1.032155   \n4         0.808997    0.663351              0.226796         0.401404   \n..             ...         ...                   ...              ...   \n173      -0.985614   -1.424900              1.274310        -0.930179   \n174      -0.793334   -1.284344              0.549108        -0.316950   \n175      -1.129824   -1.344582              0.549108        -0.422075   \n176      -1.033684   -1.354622              1.354888        -0.229346   \n177      -0.392751   -1.274305              1.596623        -0.422075   \n\n     color_intensity       hue  od280/od315_of_diluted_wines   proline  \n0           0.251717  0.362177                      1.847920  1.013009  \n1          -0.293321  0.406051                      1.113449  0.965242  \n2           0.269020  0.318304                      0.788587  1.395148  \n3           1.186068 -0.427544                      1.184071  2.334574  \n4          -0.319276  0.362177                      0.449601 -0.037874  \n..               ...       ...                           ...       ...  \n173         1.142811 -1.392758                     -1.231206 -0.021952  \n174         0.969783 -1.129518                     -1.485445  0.009893  \n175         2.224236 -1.612125                     -1.485445  0.280575  \n176         1.834923 -1.568252                     -1.400699  0.296498  \n177         1.791666 -1.524378                     -1.428948 -0.595160  \n\n[178 rows x 13 columns]",
      "text/html": "<div>\n<style scoped>\n    .dataframe tbody tr th:only-of-type {\n        vertical-align: middle;\n    }\n\n    .dataframe tbody tr th {\n        vertical-align: top;\n    }\n\n    .dataframe thead th {\n        text-align: right;\n    }\n</style>\n<table border=\"1\" class=\"dataframe\">\n  <thead>\n    <tr style=\"text-align: right;\">\n      <th></th>\n      <th>alcohol</th>\n      <th>malic_acid</th>\n      <th>ash</th>\n      <th>alcalinity_of_ash</th>\n      <th>magnesium</th>\n      <th>total_phenols</th>\n      <th>flavanoids</th>\n      <th>nonflavanoid_phenols</th>\n      <th>proanthocyanins</th>\n      <th>color_intensity</th>\n      <th>hue</th>\n      <th>od280/od315_of_diluted_wines</th>\n      <th>proline</th>\n    </tr>\n  </thead>\n  <tbody>\n    <tr>\n      <th>0</th>\n      <td>1.518613</td>\n      <td>-0.562250</td>\n      <td>0.232053</td>\n      <td>-1.169593</td>\n      <td>1.913905</td>\n      <td>0.808997</td>\n      <td>1.034819</td>\n      <td>-0.659563</td>\n      <td>1.224884</td>\n      <td>0.251717</td>\n      <td>0.362177</td>\n      <td>1.847920</td>\n      <td>1.013009</td>\n    </tr>\n    <tr>\n      <th>1</th>\n      <td>0.246290</td>\n      <td>-0.499413</td>\n      <td>-0.827996</td>\n      <td>-2.490847</td>\n      <td>0.018145</td>\n      <td>0.568648</td>\n      <td>0.733629</td>\n      <td>-0.820719</td>\n      <td>-0.544721</td>\n      <td>-0.293321</td>\n      <td>0.406051</td>\n      <td>1.113449</td>\n      <td>0.965242</td>\n    </tr>\n    <tr>\n      <th>2</th>\n      <td>0.196879</td>\n      <td>0.021231</td>\n      <td>1.109334</td>\n      <td>-0.268738</td>\n      <td>0.088358</td>\n      <td>0.808997</td>\n      <td>1.215533</td>\n      <td>-0.498407</td>\n      <td>2.135968</td>\n      <td>0.269020</td>\n      <td>0.318304</td>\n      <td>0.788587</td>\n      <td>1.395148</td>\n    </tr>\n    <tr>\n      <th>3</th>\n      <td>1.691550</td>\n      <td>-0.346811</td>\n      <td>0.487926</td>\n      <td>-0.809251</td>\n      <td>0.930918</td>\n      <td>2.491446</td>\n      <td>1.466525</td>\n      <td>-0.981875</td>\n      <td>1.032155</td>\n      <td>1.186068</td>\n      <td>-0.427544</td>\n      <td>1.184071</td>\n      <td>2.334574</td>\n    </tr>\n    <tr>\n      <th>4</th>\n      <td>0.295700</td>\n      <td>0.227694</td>\n      <td>1.840403</td>\n      <td>0.451946</td>\n      <td>1.281985</td>\n      <td>0.808997</td>\n      <td>0.663351</td>\n      <td>0.226796</td>\n      <td>0.401404</td>\n      <td>-0.319276</td>\n      <td>0.362177</td>\n      <td>0.449601</td>\n      <td>-0.037874</td>\n    </tr>\n    <tr>\n      <th>...</th>\n      <td>...</td>\n      <td>...</td>\n      <td>...</td>\n      <td>...</td>\n      <td>...</td>\n      <td>...</td>\n      <td>...</td>\n      <td>...</td>\n      <td>...</td>\n      <td>...</td>\n      <td>...</td>\n      <td>...</td>\n      <td>...</td>\n    </tr>\n    <tr>\n      <th>173</th>\n      <td>0.876275</td>\n      <td>2.974543</td>\n      <td>0.305159</td>\n      <td>0.301803</td>\n      <td>-0.332922</td>\n      <td>-0.985614</td>\n      <td>-1.424900</td>\n      <td>1.274310</td>\n      <td>-0.930179</td>\n      <td>1.142811</td>\n      <td>-1.392758</td>\n      <td>-1.231206</td>\n      <td>-0.021952</td>\n    </tr>\n    <tr>\n      <th>174</th>\n      <td>0.493343</td>\n      <td>1.412609</td>\n      <td>0.414820</td>\n      <td>1.052516</td>\n      <td>0.158572</td>\n      <td>-0.793334</td>\n      <td>-1.284344</td>\n      <td>0.549108</td>\n      <td>-0.316950</td>\n      <td>0.969783</td>\n      <td>-1.129518</td>\n      <td>-1.485445</td>\n      <td>0.009893</td>\n    </tr>\n    <tr>\n      <th>175</th>\n      <td>0.332758</td>\n      <td>1.744744</td>\n      <td>-0.389355</td>\n      <td>0.151661</td>\n      <td>1.422412</td>\n      <td>-1.129824</td>\n      <td>-1.344582</td>\n      <td>0.549108</td>\n      <td>-0.422075</td>\n      <td>2.224236</td>\n      <td>-1.612125</td>\n      <td>-1.485445</td>\n      <td>0.280575</td>\n    </tr>\n    <tr>\n      <th>176</th>\n      <td>0.209232</td>\n      <td>0.227694</td>\n      <td>0.012732</td>\n      <td>0.151661</td>\n      <td>1.422412</td>\n      <td>-1.033684</td>\n      <td>-1.354622</td>\n      <td>1.354888</td>\n      <td>-0.229346</td>\n      <td>1.834923</td>\n      <td>-1.568252</td>\n      <td>-1.400699</td>\n      <td>0.296498</td>\n    </tr>\n    <tr>\n      <th>177</th>\n      <td>1.395086</td>\n      <td>1.583165</td>\n      <td>1.365208</td>\n      <td>1.502943</td>\n      <td>-0.262708</td>\n      <td>-0.392751</td>\n      <td>-1.274305</td>\n      <td>1.596623</td>\n      <td>-0.422075</td>\n      <td>1.791666</td>\n      <td>-1.524378</td>\n      <td>-1.428948</td>\n      <td>-0.595160</td>\n    </tr>\n  </tbody>\n</table>\n<p>178 rows × 13 columns</p>\n</div>"
     },
     "execution_count": 6,
     "metadata": {},
     "output_type": "execute_result"
    }
   ],
   "source": [
    "z_score_scale(wine_data)"
   ]
  },
  {
   "cell_type": "code",
   "execution_count": 7,
   "metadata": {},
   "outputs": [],
   "source": [
    "assert np.allclose(np.array(z_score_scale(wine_data)), StandardScaler().fit_transform(wine_data))"
   ]
  },
  {
   "cell_type": "markdown",
   "metadata": {},
   "source": [
    "### Pipeline Version (2 points)"
   ]
  },
  {
   "cell_type": "code",
   "execution_count": 8,
   "metadata": {},
   "outputs": [],
   "source": [
    "# 2 points\n",
    "from sklearn.base import BaseEstimator, TransformerMixin\n",
    "\n",
    "class CustomScaler(BaseEstimator, TransformerMixin):\n",
    "    X = None\n",
    "    y = None\n",
    "\n",
    "    def __init__(self, copy=True, with_mean=True, with_std=True):\n",
    "        self.copy = copy\n",
    "        self.with_mean = with_mean\n",
    "        self.with_std = with_std\n",
    "\n",
    "    def fit(self, X, y=None):\n",
    "        self.X, self.y = self.__apply_copy(self.copy, X, y)\n",
    "        return self\n",
    "\n",
    "    def transform(self, X, copy=None):\n",
    "        __copy = self.__get_copy_param(self.copy, copy)\n",
    "        __x, _ = self.__apply_copy(__copy, X, None)\n",
    "\n",
    "        mean = self.get_mean(__x)\n",
    "        std = self.get_std(__x)\n",
    "        zscore = (__x - mean) / std\n",
    "\n",
    "        return zscore\n",
    "\n",
    "    def get_mean(self, x):\n",
    "        if self.with_mean:\n",
    "            return np.mean(x, axis=0)\n",
    "        else:\n",
    "            return 0\n",
    "\n",
    "    def get_std(self, x):\n",
    "        if self.with_std:\n",
    "            return np.std(x)\n",
    "        else:\n",
    "            return 1\n",
    "\n",
    "    def __apply_copy(self, copy_param: bool, X, y=None):\n",
    "\n",
    "        if copy_param:\n",
    "            __x = X.copy()\n",
    "        else:\n",
    "            __x = X.iloc[:]\n",
    "\n",
    "        if y is None:\n",
    "            __y = None\n",
    "        elif copy_param:\n",
    "            __y = y.copy()\n",
    "        else:\n",
    "            __y = y.iloc[:]\n",
    "\n",
    "        return __x, __y\n",
    "\n",
    "    def __get_copy_param(self, self_copy: bool, user_copy=None):\n",
    "        if user_copy is None:\n",
    "            return self_copy\n",
    "        else:\n",
    "            return user_copy"
   ]
  },
  {
   "cell_type": "code",
   "metadata": {
    "pycharm": {
     "name": "#%%\n"
    }
   },
   "source": [
    "assert np.allclose(CustomScaler().fit_transform(wine_data), StandardScaler().fit_transform(wine_data))"
   ],
   "execution_count": 9,
   "outputs": []
  },
  {
   "cell_type": "markdown",
   "source": [
    "Теперь Z-score нормализацию (CustomScaler) можно использовать в Pipeline"
   ],
   "metadata": {
    "collapsed": false,
    "pycharm": {
     "name": "#%% md\n"
    }
   }
  },
  {
   "cell_type": "code",
   "execution_count": 10,
   "outputs": [
    {
     "name": "stdout",
     "output_type": "stream",
     "text": [
      "[Pipeline] ...... (step 1 of 2) Processing customscaler, total=   0.0s\n",
      "[Pipeline]  (step 2 of 2) Processing logisticregression, total=   0.0s\n"
     ]
    },
    {
     "data": {
      "text/plain": "0.92"
     },
     "execution_count": 10,
     "metadata": {},
     "output_type": "execute_result"
    }
   ],
   "source": [
    "pipeline_ = make_pipeline(CustomScaler(with_mean=False), LogisticRegression(max_iter=1000), verbose=True)\n",
    "\n",
    "X, y = make_classification(random_state=1)\n",
    "X_train, X_test, y_train, y_test = train_test_split(X, y, random_state=1)\n",
    "\n",
    "pipeline_.fit(X_train, y_train)\n",
    "pipeline_.score(X_test, y_test)"
   ],
   "metadata": {
    "collapsed": false,
    "pycharm": {
     "name": "#%%\n"
    }
   }
  },
  {
   "cell_type": "code",
   "execution_count": 11,
   "outputs": [
    {
     "data": {
      "text/plain": "Pipeline(steps=[('customscaler', CustomScaler(with_mean=False)),\n                ('logisticregression', LogisticRegression(max_iter=1000))],\n         verbose=True)",
      "text/html": "<style>#sk-92420488-7df3-4b40-a6ab-a44b90666bbe {color: black;background-color: white;}#sk-92420488-7df3-4b40-a6ab-a44b90666bbe pre{padding: 0;}#sk-92420488-7df3-4b40-a6ab-a44b90666bbe div.sk-toggleable {background-color: white;}#sk-92420488-7df3-4b40-a6ab-a44b90666bbe label.sk-toggleable__label {cursor: pointer;display: block;width: 100%;margin-bottom: 0;padding: 0.2em 0.3em;box-sizing: border-box;text-align: center;}#sk-92420488-7df3-4b40-a6ab-a44b90666bbe div.sk-toggleable__content {max-height: 0;max-width: 0;overflow: hidden;text-align: left;background-color: #f0f8ff;}#sk-92420488-7df3-4b40-a6ab-a44b90666bbe div.sk-toggleable__content pre {margin: 0.2em;color: black;border-radius: 0.25em;background-color: #f0f8ff;}#sk-92420488-7df3-4b40-a6ab-a44b90666bbe input.sk-toggleable__control:checked~div.sk-toggleable__content {max-height: 200px;max-width: 100%;overflow: auto;}#sk-92420488-7df3-4b40-a6ab-a44b90666bbe div.sk-estimator input.sk-toggleable__control:checked~label.sk-toggleable__label {background-color: #d4ebff;}#sk-92420488-7df3-4b40-a6ab-a44b90666bbe div.sk-label input.sk-toggleable__control:checked~label.sk-toggleable__label {background-color: #d4ebff;}#sk-92420488-7df3-4b40-a6ab-a44b90666bbe input.sk-hidden--visually {border: 0;clip: rect(1px 1px 1px 1px);clip: rect(1px, 1px, 1px, 1px);height: 1px;margin: -1px;overflow: hidden;padding: 0;position: absolute;width: 1px;}#sk-92420488-7df3-4b40-a6ab-a44b90666bbe div.sk-estimator {font-family: monospace;background-color: #f0f8ff;margin: 0.25em 0.25em;border: 1px dotted black;border-radius: 0.25em;box-sizing: border-box;}#sk-92420488-7df3-4b40-a6ab-a44b90666bbe div.sk-estimator:hover {background-color: #d4ebff;}#sk-92420488-7df3-4b40-a6ab-a44b90666bbe div.sk-parallel-item::after {content: \"\";width: 100%;border-bottom: 1px solid gray;flex-grow: 1;}#sk-92420488-7df3-4b40-a6ab-a44b90666bbe div.sk-label:hover label.sk-toggleable__label {background-color: #d4ebff;}#sk-92420488-7df3-4b40-a6ab-a44b90666bbe div.sk-serial::before {content: \"\";position: absolute;border-left: 1px solid gray;box-sizing: border-box;top: 2em;bottom: 0;left: 50%;}#sk-92420488-7df3-4b40-a6ab-a44b90666bbe div.sk-serial {display: flex;flex-direction: column;align-items: center;background-color: white;}#sk-92420488-7df3-4b40-a6ab-a44b90666bbe div.sk-item {z-index: 1;}#sk-92420488-7df3-4b40-a6ab-a44b90666bbe div.sk-parallel {display: flex;align-items: stretch;justify-content: center;background-color: white;}#sk-92420488-7df3-4b40-a6ab-a44b90666bbe div.sk-parallel-item {display: flex;flex-direction: column;position: relative;background-color: white;}#sk-92420488-7df3-4b40-a6ab-a44b90666bbe div.sk-parallel-item:first-child::after {align-self: flex-end;width: 50%;}#sk-92420488-7df3-4b40-a6ab-a44b90666bbe div.sk-parallel-item:last-child::after {align-self: flex-start;width: 50%;}#sk-92420488-7df3-4b40-a6ab-a44b90666bbe div.sk-parallel-item:only-child::after {width: 0;}#sk-92420488-7df3-4b40-a6ab-a44b90666bbe div.sk-dashed-wrapped {border: 1px dashed gray;margin: 0.2em;box-sizing: border-box;padding-bottom: 0.1em;background-color: white;position: relative;}#sk-92420488-7df3-4b40-a6ab-a44b90666bbe div.sk-label label {font-family: monospace;font-weight: bold;background-color: white;display: inline-block;line-height: 1.2em;}#sk-92420488-7df3-4b40-a6ab-a44b90666bbe div.sk-label-container {position: relative;z-index: 2;text-align: center;}#sk-92420488-7df3-4b40-a6ab-a44b90666bbe div.sk-container {display: inline-block;position: relative;}</style><div id=\"sk-92420488-7df3-4b40-a6ab-a44b90666bbe\" class\"sk-top-container\"><div class=\"sk-container\"><div class=\"sk-item sk-dashed-wrapped\"><div class=\"sk-label-container\"><div class=\"sk-label sk-toggleable\"><input class=\"sk-toggleable__control sk-hidden--visually\" id=\"7c278680-ef33-4600-9d74-2838b5b1ca1d\" type=\"checkbox\" ><label class=\"sk-toggleable__label\" for=\"7c278680-ef33-4600-9d74-2838b5b1ca1d\">Pipeline</label><div class=\"sk-toggleable__content\"><pre>Pipeline(steps=[('customscaler', CustomScaler(with_mean=False)),\n                ('logisticregression', LogisticRegression(max_iter=1000))],\n         verbose=True)</pre></div></div></div><div class=\"sk-serial\"><div class=\"sk-item\"><div class=\"sk-estimator sk-toggleable\"><input class=\"sk-toggleable__control sk-hidden--visually\" id=\"1cf98b89-8ebf-4c6b-9665-d98133547ae7\" type=\"checkbox\" ><label class=\"sk-toggleable__label\" for=\"1cf98b89-8ebf-4c6b-9665-d98133547ae7\">CustomScaler</label><div class=\"sk-toggleable__content\"><pre>CustomScaler(with_mean=False)</pre></div></div></div><div class=\"sk-item\"><div class=\"sk-estimator sk-toggleable\"><input class=\"sk-toggleable__control sk-hidden--visually\" id=\"a0cd1dae-008f-4edc-97f2-c8fc2cffb0c3\" type=\"checkbox\" ><label class=\"sk-toggleable__label\" for=\"a0cd1dae-008f-4edc-97f2-c8fc2cffb0c3\">LogisticRegression</label><div class=\"sk-toggleable__content\"><pre>LogisticRegression(max_iter=1000)</pre></div></div></div></div></div></div></div>"
     },
     "execution_count": 11,
     "metadata": {},
     "output_type": "execute_result"
    }
   ],
   "source": [
    "from sklearn import set_config\n",
    "\n",
    "set_config(display=\"diagram\")\n",
    "pipeline_"
   ],
   "metadata": {
    "collapsed": false,
    "pycharm": {
     "name": "#%%\n"
    }
   }
  },
  {
   "cell_type": "markdown",
   "metadata": {},
   "source": [
    "## Exercise  2 - Visualization (3 points)"
   ]
  },
  {
   "cell_type": "markdown",
   "metadata": {},
   "source": [
    "As noted earlier, standardization/normalization of data can be crucial for some distance-based ML methods.\n",
    "\n",
    "Let’s generate some toy example of unnormalized data and visualize the importance of this process once more:"
   ]
  },
  {
   "cell_type": "code",
   "execution_count": 12,
   "metadata": {},
   "outputs": [
    {
     "data": {
      "text/plain": "array([[ -3.59334721,   1.56638173],\n       [  9.61897521,  -0.71989779],\n       [-25.27031882,   1.01276136],\n       ...,\n       [ -6.07458697,   5.8040533 ],\n       [ -2.90366095,   4.54640876],\n       [ -1.8188397 ,   4.86854372]])"
     },
     "execution_count": 12,
     "metadata": {},
     "output_type": "execute_result"
    }
   ],
   "source": [
    "feature_0 = np.random.randn(1000) * 10\n",
    "feature_1 = np.concatenate([np.random.randn(500), np.random.randn(500) + 5])\n",
    "data = np.column_stack([feature_0, feature_1])\n",
    "data"
   ]
  },
  {
   "cell_type": "code",
   "execution_count": 13,
   "metadata": {},
   "outputs": [
    {
     "data": {
      "text/plain": "<Figure size 288x288 with 1 Axes>",
      "image/png": "[encoded data removed]"
     },
     "metadata": {
      "needs_background": "light"
     },
     "output_type": "display_data"
    }
   ],
   "source": [
    "plot_scatter(data[:, 0], data[:, 1], auto_scaled=True, title='Data (different axes units!)')"
   ]
  },
  {
   "cell_type": "markdown",
   "metadata": {},
   "source": [
    "**NOTE:** on the plot above axes are scaled differently and we can clearly see two potential *classes/clusters*. In fact `matplotlib` performed `autoscaling` (which is basically can be considered as `MinMaxScaling` of original data) just for better visualization purposes.\n",
    "\n",
    "Let's turn this feature off and visualize the original data on the plot with equally scaled axes:"
   ]
  },
  {
   "cell_type": "code",
   "execution_count": 14,
   "metadata": {},
   "outputs": [
    {
     "data": {
      "text/plain": "<Figure size 288x288 with 1 Axes>",
      "image/png": "[encoded data removed]"
     },
     "metadata": {
      "needs_background": "light"
     },
     "output_type": "display_data"
    }
   ],
   "source": [
    "plot_scatter(data[:, 0], data[:, 1], auto_scaled=False, title='Data (equal axes units!)')"
   ]
  },
  {
   "cell_type": "markdown",
   "metadata": {},
   "source": [
    "This picture is clearly less interpretable, but much closer to \"how distance-based algorithm see the original data\": separability of data is hardly noticable only because the variation (std) of x-feature is much bigger in absolute numbers."
   ]
  },
  {
   "cell_type": "markdown",
   "metadata": {},
   "source": [
    "Perform `StandardScaling` and `MinMaxScaling` of original data; visualize results for each case (**use `plot_scatter` with `auto_scaled=False`**):"
   ]
  },
  {
   "cell_type": "markdown",
   "metadata": {},
   "source": [
    "### MinMaxScaling (0.5 point)"
   ]
  },
  {
   "cell_type": "markdown",
   "metadata": {
    "pycharm": {
     "name": "#%% md\n"
    }
   },
   "source": [
    "MinMax Scaling,переводит все точки в заданный интервал (обычно в (0, 1)).\n",
    "Формула\n",
    "$$ \\large X_{norm}=\\frac{X-X_{min}}{X_{max}-X_{min}} $$"
   ]
  },
  {
   "cell_type": "code",
   "execution_count": 15,
   "metadata": {},
   "outputs": [
    {
     "data": {
      "text/plain": "<Figure size 288x288 with 1 Axes>",
      "image/png": "[encoded data removed]"
     },
     "metadata": {
      "needs_background": "light"
     },
     "output_type": "display_data"
    }
   ],
   "source": [
    "minMax_data = MinMaxScaler().fit_transform(data)\n",
    "plot_scatter(minMax_data[:, 0], minMax_data[:, 1], auto_scaled=False, title='MinMaxScaling')"
   ]
  },
  {
   "cell_type": "markdown",
   "metadata": {
    "pycharm": {
     "name": "#%% md\n"
    }
   },
   "source": [
    "Данные распределены в диапазоне от 0 до 1 как по x, так и по y"
   ]
  },
  {
   "cell_type": "markdown",
   "metadata": {},
   "source": [
    "### StandardScaler (0.5 point)"
   ]
  },
  {
   "cell_type": "code",
   "execution_count": 16,
   "metadata": {},
   "outputs": [
    {
     "data": {
      "text/plain": "<Figure size 288x288 with 1 Axes>",
      "image/png": "[encoded data removed]"
     },
     "metadata": {
      "needs_background": "light"
     },
     "output_type": "display_data"
    }
   ],
   "source": [
    "std_data = StandardScaler().fit_transform(data)\n",
    "plot_scatter(std_data[:, 0], std_data[:, 1], auto_scaled=False, title='StandardScaler')"
   ]
  },
  {
   "cell_type": "markdown",
   "metadata": {
    "pycharm": {
     "name": "#%% md\n"
    }
   },
   "source": [
    "Ещё раз формула Standard Scaling (or Z-score normalization):\n",
    "\n",
    "$$ \\large z= \\frac{x-\\mu}{\\sigma} $$"
   ]
  },
  {
   "cell_type": "code",
   "execution_count": 17,
   "metadata": {
    "pycharm": {
     "name": "#%%\n"
    }
   },
   "outputs": [
    {
     "data": {
      "text/plain": "                  0             1\ncount  1.000000e+03  1.000000e+03\nmean  -1.273981e-17 -3.070877e-16\nstd    1.000500e+00  1.000500e+00\nmin   -2.793417e+00 -2.355436e+00\n25%   -6.354275e-01 -9.128121e-01\n50%    3.824872e-02  2.155207e-02\n75%    6.522225e-01  9.039203e-01\nmax    3.567727e+00  2.058059e+00",
      "text/html": "<div>\n<style scoped>\n    .dataframe tbody tr th:only-of-type {\n        vertical-align: middle;\n    }\n\n    .dataframe tbody tr th {\n        vertical-align: top;\n    }\n\n    .dataframe thead th {\n        text-align: right;\n    }\n</style>\n<table border=\"1\" class=\"dataframe\">\n  <thead>\n    <tr style=\"text-align: right;\">\n      <th></th>\n      <th>0</th>\n      <th>1</th>\n    </tr>\n  </thead>\n  <tbody>\n    <tr>\n      <th>count</th>\n      <td>1.000000e+03</td>\n      <td>1.000000e+03</td>\n    </tr>\n    <tr>\n      <th>mean</th>\n      <td>-1.273981e-17</td>\n      <td>-3.070877e-16</td>\n    </tr>\n    <tr>\n      <th>std</th>\n      <td>1.000500e+00</td>\n      <td>1.000500e+00</td>\n    </tr>\n    <tr>\n      <th>min</th>\n      <td>-2.793417e+00</td>\n      <td>-2.355436e+00</td>\n    </tr>\n    <tr>\n      <th>25%</th>\n      <td>-6.354275e-01</td>\n      <td>-9.128121e-01</td>\n    </tr>\n    <tr>\n      <th>50%</th>\n      <td>3.824872e-02</td>\n      <td>2.155207e-02</td>\n    </tr>\n    <tr>\n      <th>75%</th>\n      <td>6.522225e-01</td>\n      <td>9.039203e-01</td>\n    </tr>\n    <tr>\n      <th>max</th>\n      <td>3.567727e+00</td>\n      <td>2.058059e+00</td>\n    </tr>\n  </tbody>\n</table>\n</div>"
     },
     "execution_count": 17,
     "metadata": {},
     "output_type": "execute_result"
    }
   ],
   "source": [
    "pd.DataFrame(std_data).describe()"
   ]
  },
  {
   "cell_type": "markdown",
   "metadata": {
    "pycharm": {
     "name": "#%% md\n"
    }
   },
   "source": [
    "StandardScaler преобразовал данные таким образом, что их среднее значение будет ~0, а стандартное отклонение будет ~1\n",
    "При этом x принял значения от -3 до 3.1, а y от -1 до 1.9"
   ]
  },
  {
   "cell_type": "markdown",
   "metadata": {},
   "source": [
    "### (Bonus) K-means (2 points)"
   ]
  },
  {
   "cell_type": "markdown",
   "metadata": {},
   "source": [
    "Illustrate the impact of scaling on basic distance-based clustering algorithm [K-means](https://towardsdatascience.com/understanding-k-means-clustering-in-machine-learning-6a6e67336aa1) using `data` generated above.\n",
    "\n",
    "**NOTE:** basically, you don't need understanding K-means algorithm here, you just need to:\n",
    "\n",
    "1) run algorithm (with k=2, k - number of clusters/classes) on unscaled data    \n",
    "2) run algorithm (with k=2) on scaled data    \n",
    "3) plot results: highlight different clusters using different colors.\n",
    "\n",
    "You can use this [question](https://stats.stackexchange.com/questions/89809/is-it-important-to-scale-data-before-clustering/89813) as a hint, but I recommend you to plot results using `plot_scatter` with `equal_scaled=True`: it might help you to intuitively understand the reasons of such scaling impact.\n"
   ]
  },
  {
   "cell_type": "code",
   "execution_count": 18,
   "metadata": {},
   "outputs": [],
   "source": [
    "from sklearn.cluster import KMeans\n",
    "\n",
    "kmean = KMeans(n_clusters=2)\n",
    "k_unscale = kmean.fit_transform(data)\n",
    "k_scale = kmean.fit_transform(std_data)"
   ]
  },
  {
   "cell_type": "code",
   "execution_count": 19,
   "metadata": {
    "pycharm": {
     "name": "#%%\n"
    }
   },
   "outputs": [
    {
     "data": {
      "text/plain": "<Figure size 288x288 with 1 Axes>",
      "image/png": "[encoded data removed]"
     },
     "metadata": {
      "needs_background": "light"
     },
     "output_type": "display_data"
    },
    {
     "data": {
      "text/plain": "<Figure size 288x288 with 1 Axes>",
      "image/png": "[encoded data removed]"
     },
     "metadata": {
      "needs_background": "light"
     },
     "output_type": "display_data"
    },
    {
     "data": {
      "text/plain": "<Figure size 288x288 with 1 Axes>",
      "image/png": "[encoded data removed]"
     },
     "metadata": {
      "needs_background": "light"
     },
     "output_type": "display_data"
    }
   ],
   "source": [
    "plot_scatter(data[:, 0], data[:, 1], auto_scaled=False, title='Исходные', clusters=kmean.labels_)\n",
    "plot_scatter(k_unscale[:, 0], k_unscale[:, 1], auto_scaled=False, title='K Ненормализованные', clusters=kmean.labels_)\n",
    "plot_scatter(k_scale[:, 0], k_scale[:, 1], auto_scaled=True, title='K Нормализованные', clusters=kmean.labels_)"
   ]
  },
  {
   "cell_type": "markdown",
   "metadata": {
    "pycharm": {
     "name": "#%% md\n"
    }
   },
   "source": [
    "На втором графике можно заметить, что кластеризация K-mean очень плохо работает на ненормализованных данных."
   ]
  },
  {
   "cell_type": "markdown",
   "metadata": {},
   "source": [
    "## Exercise  3 - Preprocessing Pipeline (2 points)"
   ]
  },
  {
   "cell_type": "code",
   "execution_count": 20,
   "metadata": {},
   "outputs": [],
   "source": [
    "wine_train, wine_val, wine_labels_train, wine_labels_val = train_test_split(wine_data, wine_labels,\n",
    "                                                                            test_size=0.3, random_state=42)"
   ]
  },
  {
   "cell_type": "markdown",
   "metadata": {},
   "source": [
    "Train model (for example, `LogisticRegression(solver='liblinear', penalty='l1')` on raw `wine_train` data; then train same model after data scaling; then add feature selection (and train model again on scaled data). For each experiment all required preprocessing steps (if any) should be wrapped into sklearn pipeline.\n",
    "\n",
    "Measure `accuracy` of all 3 approaches on `wine_val` dataset. Describe and explain results."
   ]
  },
  {
   "cell_type": "code",
   "execution_count": 21,
   "metadata": {
    "pycharm": {
     "name": "#%%\n"
    }
   },
   "outputs": [
    {
     "name": "stdout",
     "output_type": "stream",
     "text": [
      "Accuracy:\n",
      "0.9113333333333333 Сырые данные.\n",
      "0.9756666666666666 Применён StandardScaler.\n",
      "0.9513333333333334 Применён StandardScaler и Feature Selection.\n"
     ]
    }
   ],
   "source": [
    "pipeBasic = Pipeline([\n",
    "    ('logreg', LogisticRegression(solver='liblinear', penalty='l1'))])\n",
    "\n",
    "kfold = KFold(n_splits=5, random_state=77, shuffle=True)\n",
    "\n",
    "print('Accuracy:')\n",
    "\n",
    "print(cross_val_score(\n",
    "    estimator=pipeBasic, X=wine_train, y=wine_labels_train, scoring=\"accuracy\", cv=kfold\n",
    ").mean(), 'Сырые данные.', )\n",
    "\n",
    "pipeNorm = Pipeline([\n",
    "    ('standardScaler', StandardScaler()),\n",
    "    ('logreg', LogisticRegression(solver='liblinear', penalty='l1'))])\n",
    "\n",
    "print(cross_val_score(\n",
    "    estimator=pipeNorm, X=wine_train, y=wine_labels_train, scoring=\"accuracy\", cv=kfold\n",
    ").mean(), 'Применён StandardScaler.', )\n",
    "\n",
    "print(cross_val_score(\n",
    "    estimator=pipeNorm, X=VarianceThreshold(0.7).fit_transform(wine_train), y=wine_labels_train, scoring=\"accuracy\",\n",
    "    cv=kfold\n",
    ").mean(), 'Применён StandardScaler и Feature Selection.', )"
   ]
  },
  {
   "cell_type": "markdown",
   "metadata": {
    "pycharm": {
     "name": "#%% md\n"
    }
   },
   "source": [
    "Была создана модель LogisticRegression. При её тренировки использована cross validation с количеством folds равное 5.\n",
    "- В первом случае модель тренировалась на сырых данных. При этом доля прогноза правильных ответов составила 91%.\n",
    "- Во втором случае модель тренировалась на нормализированных данных. При этом доля прогноза правильных ответов улучшилась на 7 процентов и составила 98%.\n",
    "- В третьем случае модель тренировалась на нормализированных данных с применением Feature Selection, использовался VarianceThreshold с порогом 0.7. При этом доля прогноза правильных ответов ухудшилась и составила 95%, вместо 97%.\n",
    "\n",
    "Feature Selection применяется по двум причинам:\n",
    "- Чтобы хоть как-то сгладить требования к вычислительным мощностям оборудования, если входных данных огромное количество.\n",
    "- Чтобы избавиться от переобучения модели(overfit), так как в данных может содержаться неинформативные признаки или признаки, которые имеют много \"шума\"\n",
    "\n",
    "Значение метрики Accuracy показывает отношение правильных прогнозов ко всему количеству прогнозов, но она не показывает конкретики где мы ошибались. В некоторых ситуациях это очень важно. Для выяснения конкретных фактов по ошибочным прогнозам необходимо применять другой подход, как например Confusion Matrix, после которого нередко случается так, что предпочтительнее применение модели с Accuracy 95%, чем модели с Accuracy 98%"
   ]
  },
  {
   "cell_type": "code",
   "execution_count": 22,
   "metadata": {
    "pycharm": {
     "name": "#%%\n"
    }
   },
   "outputs": [
    {
     "data": {
      "text/plain": "<Figure size 1224x360 with 4 Axes>",
      "image/png": "[encoded data removed]"
     },
     "metadata": {
      "needs_background": "light"
     },
     "output_type": "display_data"
    }
   ],
   "source": [
    "from sklearn.metrics import confusion_matrix, ConfusionMatrixDisplay\n",
    "from sklearn.model_selection import cross_val_predict\n",
    "\n",
    "f, axes = plt.subplots(1, 2, figsize=(17, 5), sharey='row')\n",
    "\n",
    "\n",
    "def confusion_matrix_display(confusion_matrix_results, labels, title, ax):\n",
    "    disp = ConfusionMatrixDisplay(confusion_matrix=confusion_matrix_results, display_labels=labels)\n",
    "    disp.plot(ax=ax, xticks_rotation=45)\n",
    "    disp.ax_.grid(visible=False)\n",
    "    disp.ax_.set_xlabel('Прогноз')\n",
    "    disp.ax_.set_ylabel('Реально')\n",
    "    disp.ax_.set_title(title)\n",
    "\n",
    "\n",
    "display_labels = ['1 класс', '2 класс', '3 класс']\n",
    "\n",
    "y_pred = cross_val_predict(pipeNorm, X=wine_train, y=wine_labels_train, cv=kfold)\n",
    "conf_mat = confusion_matrix(wine_labels_train, y_pred)\n",
    "confusion_matrix_display(conf_mat, display_labels, 'Без применения Feature Selection', axes[0])\n",
    "\n",
    "y_pred = cross_val_predict(pipeNorm, X=VarianceThreshold(0.7).fit_transform(wine_train), y=wine_labels_train, cv=kfold)\n",
    "conf_mat = confusion_matrix(wine_labels_train, y_pred)\n",
    "confusion_matrix_display(conf_mat, display_labels, 'С применением Feature Selection', axes[1])\n",
    "\n",
    "plt.show()"
   ]
  },
  {
   "cell_type": "markdown",
   "metadata": {
    "pycharm": {
     "name": "#%% md\n"
    }
   },
   "source": [
    "\n",
    "Для характеристик вина можно наблюдать, что при применении подхода Feature Selection(VarianceThreshold) модель ошибается на 1 раз больше при определении 1 класса вина и на 2 раза больше при определении 2 класса вина, количество угаданных правильных ответов сокращается на 3, по 1 на каждый класс вина.\n",
    "\n",
    "По итогу можно сделать вывод - перед отправкой данных в модель, в основном требуется их нормализация, что улучшает прогнозирование данных, применение Feature Selection нужно выполнять осознанно, так как применение такого подхода всё же иногда приводит к ухудшению прогноза."
   ]
  },
  {
   "cell_type": "markdown",
   "metadata": {},
   "source": [
    "## Exercise 4 - manual PCA (5 points)\n",
    "The task is to solve PCA as an optimization problem, without explicitly doing eigen value decomposition.\n",
    "In the most general setting PCA is minimization of reconstruction error of a projection of given rank $q$\n",
    "\n",
    "$$\\min_{\\mu, \\lambda_1,\\ldots, \\lambda_n, \\mathbf{V}_q} \\sum_{i=1}^n ||x_i - \\mu - \\mathbf{V}_q \\lambda_i||^2$$\n",
    "\n",
    "With a number of steps that can be found here https://stats.stackexchange.com/a/10260 this task transforms to\n",
    " $$\\max_{u_i} \\sum_{i=1}^q u_i^T \\mathbf{S} u_i$$\n",
    " where $\\mathbf{S}$ is the sample covariance matrix (after standartization) and $u_1, \\ldots, u_q$ are the $q$ are orthonormal columns in $\\mathbf{V}_q$.\n",
    " Let us solve this optimization problem with `scipy.optimize` library.\n",
    " \n",
    " Additional 2 point are given for visualization of the results."
   ]
  },
  {
   "cell_type": "markdown",
   "metadata": {},
   "source": [
    "### PCA (3 points)"
   ]
  },
  {
   "cell_type": "code",
   "execution_count": 23,
   "metadata": {},
   "outputs": [],
   "source": [
    "wine_data, wine_labels = wine_sklearn['data'], wine_sklearn['target']"
   ]
  },
  {
   "cell_type": "code",
   "execution_count": 24,
   "metadata": {
    "pycharm": {
     "name": "#%%\n"
    }
   },
   "outputs": [
    {
     "data": {
      "text/plain": "     alcohol  malic_acid   ash  alcalinity_of_ash  magnesium  total_phenols  \\\n0      14.23        1.71  2.43               15.6      127.0           2.80   \n1      13.20        1.78  2.14               11.2      100.0           2.65   \n2      13.16        2.36  2.67               18.6      101.0           2.80   \n3      14.37        1.95  2.50               16.8      113.0           3.85   \n4      13.24        2.59  2.87               21.0      118.0           2.80   \n..       ...         ...   ...                ...        ...            ...   \n173    13.71        5.65  2.45               20.5       95.0           1.68   \n174    13.40        3.91  2.48               23.0      102.0           1.80   \n175    13.27        4.28  2.26               20.0      120.0           1.59   \n176    13.17        2.59  2.37               20.0      120.0           1.65   \n177    14.13        4.10  2.74               24.5       96.0           2.05   \n\n     flavanoids  nonflavanoid_phenols  proanthocyanins  color_intensity   hue  \\\n0          3.06                  0.28             2.29             5.64  1.04   \n1          2.76                  0.26             1.28             4.38  1.05   \n2          3.24                  0.30             2.81             5.68  1.03   \n3          3.49                  0.24             2.18             7.80  0.86   \n4          2.69                  0.39             1.82             4.32  1.04   \n..          ...                   ...              ...              ...   ...   \n173        0.61                  0.52             1.06             7.70  0.64   \n174        0.75                  0.43             1.41             7.30  0.70   \n175        0.69                  0.43             1.35            10.20  0.59   \n176        0.68                  0.53             1.46             9.30  0.60   \n177        0.76                  0.56             1.35             9.20  0.61   \n\n     od280/od315_of_diluted_wines  proline  \n0                            3.92   1065.0  \n1                            3.40   1050.0  \n2                            3.17   1185.0  \n3                            3.45   1480.0  \n4                            2.93    735.0  \n..                            ...      ...  \n173                          1.74    740.0  \n174                          1.56    750.0  \n175                          1.56    835.0  \n176                          1.62    840.0  \n177                          1.60    560.0  \n\n[178 rows x 13 columns]",
      "text/html": "<div>\n<style scoped>\n    .dataframe tbody tr th:only-of-type {\n        vertical-align: middle;\n    }\n\n    .dataframe tbody tr th {\n        vertical-align: top;\n    }\n\n    .dataframe thead th {\n        text-align: right;\n    }\n</style>\n<table border=\"1\" class=\"dataframe\">\n  <thead>\n    <tr style=\"text-align: right;\">\n      <th></th>\n      <th>alcohol</th>\n      <th>malic_acid</th>\n      <th>ash</th>\n      <th>alcalinity_of_ash</th>\n      <th>magnesium</th>\n      <th>total_phenols</th>\n      <th>flavanoids</th>\n      <th>nonflavanoid_phenols</th>\n      <th>proanthocyanins</th>\n      <th>color_intensity</th>\n      <th>hue</th>\n      <th>od280/od315_of_diluted_wines</th>\n      <th>proline</th>\n    </tr>\n  </thead>\n  <tbody>\n    <tr>\n      <th>0</th>\n      <td>14.23</td>\n      <td>1.71</td>\n      <td>2.43</td>\n      <td>15.6</td>\n      <td>127.0</td>\n      <td>2.80</td>\n      <td>3.06</td>\n      <td>0.28</td>\n      <td>2.29</td>\n      <td>5.64</td>\n      <td>1.04</td>\n      <td>3.92</td>\n      <td>1065.0</td>\n    </tr>\n    <tr>\n      <th>1</th>\n      <td>13.20</td>\n      <td>1.78</td>\n      <td>2.14</td>\n      <td>11.2</td>\n      <td>100.0</td>\n      <td>2.65</td>\n      <td>2.76</td>\n      <td>0.26</td>\n      <td>1.28</td>\n      <td>4.38</td>\n      <td>1.05</td>\n      <td>3.40</td>\n      <td>1050.0</td>\n    </tr>\n    <tr>\n      <th>2</th>\n      <td>13.16</td>\n      <td>2.36</td>\n      <td>2.67</td>\n      <td>18.6</td>\n      <td>101.0</td>\n      <td>2.80</td>\n      <td>3.24</td>\n      <td>0.30</td>\n      <td>2.81</td>\n      <td>5.68</td>\n      <td>1.03</td>\n      <td>3.17</td>\n      <td>1185.0</td>\n    </tr>\n    <tr>\n      <th>3</th>\n      <td>14.37</td>\n      <td>1.95</td>\n      <td>2.50</td>\n      <td>16.8</td>\n      <td>113.0</td>\n      <td>3.85</td>\n      <td>3.49</td>\n      <td>0.24</td>\n      <td>2.18</td>\n      <td>7.80</td>\n      <td>0.86</td>\n      <td>3.45</td>\n      <td>1480.0</td>\n    </tr>\n    <tr>\n      <th>4</th>\n      <td>13.24</td>\n      <td>2.59</td>\n      <td>2.87</td>\n      <td>21.0</td>\n      <td>118.0</td>\n      <td>2.80</td>\n      <td>2.69</td>\n      <td>0.39</td>\n      <td>1.82</td>\n      <td>4.32</td>\n      <td>1.04</td>\n      <td>2.93</td>\n      <td>735.0</td>\n    </tr>\n    <tr>\n      <th>...</th>\n      <td>...</td>\n      <td>...</td>\n      <td>...</td>\n      <td>...</td>\n      <td>...</td>\n      <td>...</td>\n      <td>...</td>\n      <td>...</td>\n      <td>...</td>\n      <td>...</td>\n      <td>...</td>\n      <td>...</td>\n      <td>...</td>\n    </tr>\n    <tr>\n      <th>173</th>\n      <td>13.71</td>\n      <td>5.65</td>\n      <td>2.45</td>\n      <td>20.5</td>\n      <td>95.0</td>\n      <td>1.68</td>\n      <td>0.61</td>\n      <td>0.52</td>\n      <td>1.06</td>\n      <td>7.70</td>\n      <td>0.64</td>\n      <td>1.74</td>\n      <td>740.0</td>\n    </tr>\n    <tr>\n      <th>174</th>\n      <td>13.40</td>\n      <td>3.91</td>\n      <td>2.48</td>\n      <td>23.0</td>\n      <td>102.0</td>\n      <td>1.80</td>\n      <td>0.75</td>\n      <td>0.43</td>\n      <td>1.41</td>\n      <td>7.30</td>\n      <td>0.70</td>\n      <td>1.56</td>\n      <td>750.0</td>\n    </tr>\n    <tr>\n      <th>175</th>\n      <td>13.27</td>\n      <td>4.28</td>\n      <td>2.26</td>\n      <td>20.0</td>\n      <td>120.0</td>\n      <td>1.59</td>\n      <td>0.69</td>\n      <td>0.43</td>\n      <td>1.35</td>\n      <td>10.20</td>\n      <td>0.59</td>\n      <td>1.56</td>\n      <td>835.0</td>\n    </tr>\n    <tr>\n      <th>176</th>\n      <td>13.17</td>\n      <td>2.59</td>\n      <td>2.37</td>\n      <td>20.0</td>\n      <td>120.0</td>\n      <td>1.65</td>\n      <td>0.68</td>\n      <td>0.53</td>\n      <td>1.46</td>\n      <td>9.30</td>\n      <td>0.60</td>\n      <td>1.62</td>\n      <td>840.0</td>\n    </tr>\n    <tr>\n      <th>177</th>\n      <td>14.13</td>\n      <td>4.10</td>\n      <td>2.74</td>\n      <td>24.5</td>\n      <td>96.0</td>\n      <td>2.05</td>\n      <td>0.76</td>\n      <td>0.56</td>\n      <td>1.35</td>\n      <td>9.20</td>\n      <td>0.61</td>\n      <td>1.60</td>\n      <td>560.0</td>\n    </tr>\n  </tbody>\n</table>\n<p>178 rows × 13 columns</p>\n</div>"
     },
     "execution_count": 24,
     "metadata": {},
     "output_type": "execute_result"
    }
   ],
   "source": [
    "wine_data"
   ]
  },
  {
   "cell_type": "markdown",
   "metadata": {
    "pycharm": {
     "name": "#%% md\n"
    }
   },
   "source": [
    "Дисперсия - мера разброса значений случайной величины относительно её математического ожидания.\n",
    "$$var(X) = \\sum_{i=1}^n(x_i-\\mu)^2$$"
   ]
  },
  {
   "cell_type": "markdown",
   "metadata": {
    "pycharm": {
     "name": "#%% md\n"
    }
   },
   "source": [
    "Ковариация - это мера разброса двух случайных велечин относительно их математических ожиданий.\n",
    "$$cov(X_i, X_j) = E[(X_i - \\mu_i) (X_j - \\mu_j)] = E[X_i X_j] - \\mu_i \\mu_j,$$"
   ]
  },
  {
   "cell_type": "markdown",
   "metadata": {},
   "source": []
  },
  {
   "cell_type": "code",
   "execution_count": 25,
   "metadata": {},
   "outputs": [
    {
     "data": {
      "text/plain": "array([[ 1.00564972,  0.09493026,  0.21273976, -0.31198788,  0.27232816,\n         0.29073446,  0.23815287, -0.15681042,  0.13747022,  0.549451  ,\n        -0.07215255,  0.07275191,  0.64735687],\n       [ 0.09493026,  1.00564972,  0.16497228,  0.29013035, -0.05488343,\n        -0.3370606 , -0.41332866,  0.29463237, -0.22199334,  0.25039204,\n        -0.56446685, -0.37079354, -0.19309537],\n       [ 0.21273976,  0.16497228,  1.00564972,  0.44587209,  0.28820583,\n         0.12970824,  0.11572743,  0.1872826 ,  0.00970647,  0.2603499 ,\n        -0.07508874,  0.00393333,  0.22488969],\n       [-0.31198788,  0.29013035,  0.44587209,  1.00564972, -0.0838039 ,\n        -0.32292752, -0.353355  ,  0.36396647, -0.19844168,  0.01883781,\n        -0.27550299, -0.27833221, -0.44308618],\n       [ 0.27232816, -0.05488343,  0.28820583, -0.0838039 ,  1.00564972,\n         0.21561254,  0.19688989, -0.25774204,  0.23777643,  0.20107967,\n         0.05571118,  0.06637684,  0.39557317],\n       [ 0.29073446, -0.3370606 ,  0.12970824, -0.32292752,  0.21561254,\n         1.00564972,  0.86944804, -0.45247731,  0.61587304, -0.05544792,\n         0.43613151,  0.70390388,  0.50092909],\n       [ 0.23815287, -0.41332866,  0.11572743, -0.353355  ,  0.19688989,\n         0.86944804,  1.00564972, -0.54093859,  0.65637929, -0.17335329,\n         0.54654907,  0.79164133,  0.49698518],\n       [-0.15681042,  0.29463237,  0.1872826 ,  0.36396647, -0.25774204,\n        -0.45247731, -0.54093859,  1.00564972, -0.36791202,  0.13984265,\n        -0.26412347, -0.50611293, -0.31314443],\n       [ 0.13747022, -0.22199334,  0.00970647, -0.19844168,  0.23777643,\n         0.61587304,  0.65637929, -0.36791202,  1.00564972, -0.02539259,\n         0.29721399,  0.52199968,  0.33228346],\n       [ 0.549451  ,  0.25039204,  0.2603499 ,  0.01883781,  0.20107967,\n        -0.05544792, -0.17335329,  0.13984265, -0.02539259,  1.00564972,\n        -0.52476129, -0.43123763,  0.31788599],\n       [-0.07215255, -0.56446685, -0.07508874, -0.27550299,  0.05571118,\n         0.43613151,  0.54654907, -0.26412347,  0.29721399, -0.52476129,\n         1.00564972,  0.56866303,  0.23751782],\n       [ 0.07275191, -0.37079354,  0.00393333, -0.27833221,  0.06637684,\n         0.70390388,  0.79164133, -0.50611293,  0.52199968, -0.43123763,\n         0.56866303,  1.00564972,  0.31452809],\n       [ 0.64735687, -0.19309537,  0.22488969, -0.44308618,  0.39557317,\n         0.50092909,  0.49698518, -0.31314443,  0.33228346,  0.31788599,\n         0.23751782,  0.31452809,  1.00564972]])"
     },
     "execution_count": 25,
     "metadata": {},
     "output_type": "execute_result"
    }
   ],
   "source": [
    "std_wine = StandardScaler().fit_transform(wine_data)\n",
    "\n",
    "\n",
    "def covariance_matrix(X):\n",
    "    return (X - X.mean()).T @ (X - X.mean()) / (np.shape(X)[0] - 1)\n",
    "\n",
    "\n",
    "S = covariance_matrix(std_wine)\n",
    "S"
   ]
  },
  {
   "cell_type": "markdown",
   "metadata": {},
   "source": [
    "If your code is correct, the following assert should be Ok."
   ]
  },
  {
   "cell_type": "code",
   "execution_count": 26,
   "metadata": {},
   "outputs": [],
   "source": [
    "assert np.allclose(np.linalg.norm(S), 5.787241159764733)"
   ]
  },
  {
   "cell_type": "code",
   "execution_count": 27,
   "metadata": {
    "pycharm": {
     "name": "#%%\n"
    }
   },
   "outputs": [],
   "source": [
    "from scipy.optimize import minimize\n",
    "\n",
    "\n",
    "def objective(x):\n",
    "    return -(x.T @ S @ x)\n",
    "\n",
    "\n",
    "def norm_constraint(x):\n",
    "    return np.sqrt(np.sum(x ** 2)) - 1\n",
    "\n",
    "\n",
    "con1 = {'type': 'eq', 'fun': norm_constraint}\n",
    "\n",
    "x0 = np.ones(np.shape(S)[0])\n",
    "sol = minimize(fun=objective, x0=x0, constraints=con1)\n",
    "x0 = sol.x"
   ]
  },
  {
   "cell_type": "markdown",
   "metadata": {},
   "source": [
    "Hurray! We have first vector! Let's do another one."
   ]
  },
  {
   "cell_type": "code",
   "execution_count": 28,
   "metadata": {},
   "outputs": [],
   "source": [
    "def orthogonality_constraint(x):\n",
    "    return x.T @ x0\n",
    "\n",
    "\n",
    "con2 = {'type': 'eq', 'fun': orthogonality_constraint}\n",
    "\n",
    "x1 = np.ones(np.shape(S)[0])\n",
    "\n",
    "sol = minimize(objective,\n",
    "               x1,\n",
    "               constraints=[con1, con2]\n",
    "               )\n",
    "\n",
    "x1 = sol.x"
   ]
  },
  {
   "cell_type": "markdown",
   "metadata": {},
   "source": [
    "If your solution is correct, the following asserts should be Ok."
   ]
  },
  {
   "cell_type": "code",
   "execution_count": 29,
   "metadata": {},
   "outputs": [],
   "source": [
    "assert np.allclose(x0 @ S @ x0, 4.732436977583595)\n",
    "assert np.allclose(x1 @ S @ x1, 2.5110809296451233)"
   ]
  },
  {
   "cell_type": "markdown",
   "metadata": {},
   "source": [
    "### Visualization (2 points)"
   ]
  },
  {
   "cell_type": "markdown",
   "metadata": {},
   "source": [
    "Visualize the points after applying custom dimension reduction with 2 components."
   ]
  },
  {
   "cell_type": "code",
   "execution_count": 30,
   "metadata": {
    "pycharm": {
     "name": "#%%\n"
    }
   },
   "outputs": [
    {
     "data": {
      "text/plain": "<Figure size 504x504 with 1 Axes>",
      "image/png": "[encoded data removed]"
     },
     "metadata": {
      "needs_background": "light"
     },
     "output_type": "display_data"
    }
   ],
   "source": [
    "plt.figure(figsize=(7, 7))\n",
    "labels = (wine_labels + 1).rename(\"Классы вина\")\n",
    "sns.scatterplot(x=std_wine @ x0, y=std_wine @ x1, hue=labels, palette=\"deep\",\n",
    "                ).set(xlabel=\"PC1\", ylabel=\"PC2\", title='PCA')\n",
    "plt.grid()"
   ]
  },
  {
   "cell_type": "markdown",
   "metadata": {
    "pycharm": {
     "name": "#%% md\n"
    }
   },
   "source": [
    "PCA может быть использовано для отброса коллинеарных характеристик, а также для возможности отобразить многомерные данные в 2-D проекции"
   ]
  },
  {
   "cell_type": "markdown",
   "metadata": {},
   "source": [
    "## Exercise 5 - Boruta (3 points)\n",
    "\n",
    "Let us classify handwritten digits 0, 1 and 2. \n",
    "To make task not so easy the images are binarized (no shadows of gray present) as it happens with xerocopied documents.\n",
    "\n",
    "Let us also find out to which parts of an image there's no need to look in order to clasify three digits of interest."
   ]
  },
  {
   "cell_type": "code",
   "execution_count": 31,
   "metadata": {},
   "outputs": [],
   "source": [
    "X, y = load_digits(n_class=3, return_X_y=True, as_frame=True)\n",
    "X = (X > 10).astype(int)"
   ]
  },
  {
   "cell_type": "code",
   "execution_count": 32,
   "metadata": {},
   "outputs": [
    {
     "data": {
      "text/plain": "<Figure size 720x288 with 3 Axes>",
      "image/png": "[encoded data removed]"
     },
     "metadata": {},
     "output_type": "display_data"
    }
   ],
   "source": [
    "plt.style.use('seaborn-darkgrid')\n",
    "f, ax = plt.subplots(1, 3, figsize=(10, 4))\n",
    "for i in range(3):\n",
    "    ax[i].imshow(X.iloc[i].values.reshape(8, 8))\n",
    "    ax[i].set_title(f\"This is digit {y[i]}.\")\n",
    "plt.suptitle(\"First three images.\")\n",
    "plt.show()"
   ]
  },
  {
   "cell_type": "markdown",
   "metadata": {},
   "source": [
    "Split data into train and test, let test size be 30% of the dataset and fix random state to 42:"
   ]
  },
  {
   "cell_type": "code",
   "execution_count": 33,
   "metadata": {},
   "outputs": [],
   "source": [
    "X_train, X_val, y_train, y_val = train_test_split(X, y, test_size=0.3, random_state=42)"
   ]
  },
  {
   "cell_type": "code",
   "execution_count": 34,
   "metadata": {},
   "outputs": [],
   "source": [
    "assert y_val.shape[0] == 162\n",
    "assert y_val.sum() == 169"
   ]
  },
  {
   "cell_type": "markdown",
   "metadata": {},
   "source": [
    "Fit a RandomForestClassifier with max_depth=13 and evaluate it's performance:"
   ]
  },
  {
   "cell_type": "code",
   "execution_count": 35,
   "metadata": {},
   "outputs": [
    {
     "name": "stdout",
     "output_type": "stream",
     "text": [
      "0.9876543209876543\n"
     ]
    }
   ],
   "source": [
    "clf = RandomForestClassifier(max_depth=13, random_state=1)\n",
    "\n",
    "\n",
    "def prep_data(x_data):\n",
    "    data_ = x_data.copy()\n",
    "    np.random.seed(42)\n",
    "    x_shadow = data_.apply(np.random.permutation)\n",
    "    x_shadow.columns = ['shadow_' + feat for feat in data_.columns]\n",
    "    x_boruta = pd.concat([data_, x_shadow], axis=1)\n",
    "    return x_boruta\n",
    "\n",
    "\n",
    "clf.fit(prep_data(X_train), y_train)\n",
    "acc = accuracy_score(y_val, clf.predict(prep_data(X_val)), normalize=True)\n",
    "\n",
    "print(acc)"
   ]
  },
  {
   "cell_type": "code",
   "execution_count": 36,
   "metadata": {},
   "outputs": [],
   "source": [
    "assert acc > 0.98"
   ]
  },
  {
   "cell_type": "markdown",
   "metadata": {},
   "source": [
    "Now we will use Boruta to find redundand pixels. If the package is not installed in your system, uncomment and run the following cell."
   ]
  },
  {
   "cell_type": "code",
   "execution_count": 37,
   "metadata": {},
   "outputs": [],
   "source": [
    "# ! pip install boruta"
   ]
  },
  {
   "cell_type": "code",
   "execution_count": 38,
   "metadata": {},
   "outputs": [
    {
     "ename": "ModuleNotFoundError",
     "evalue": "No module named 'boruta'",
     "output_type": "error",
     "traceback": [
      "\u001B[1;31m---------------------------------------------------------------------------\u001B[0m",
      "\u001B[1;31mModuleNotFoundError\u001B[0m                       Traceback (most recent call last)",
      "\u001B[1;32m~\\AppData\\Local\\Temp/ipykernel_26424/975852882.py\u001B[0m in \u001B[0;36m<module>\u001B[1;34m\u001B[0m\n\u001B[1;32m----> 1\u001B[1;33m \u001B[1;32mfrom\u001B[0m \u001B[0mboruta\u001B[0m \u001B[1;32mimport\u001B[0m \u001B[0mBorutaPy\u001B[0m\u001B[1;33m\u001B[0m\u001B[1;33m\u001B[0m\u001B[0m\n\u001B[0m\u001B[0;32m      2\u001B[0m \u001B[1;33m\u001B[0m\u001B[0m\n\u001B[0;32m      3\u001B[0m feat_selector = BorutaPy(RandomForestClassifier(max_depth=13),\n\u001B[0;32m      4\u001B[0m                          \u001B[0mn_estimators\u001B[0m\u001B[1;33m=\u001B[0m\u001B[1;34m'auto'\u001B[0m\u001B[1;33m,\u001B[0m\u001B[1;33m\u001B[0m\u001B[1;33m\u001B[0m\u001B[0m\n\u001B[0;32m      5\u001B[0m                          \u001B[0mverbose\u001B[0m\u001B[1;33m=\u001B[0m\u001B[1;36m0\u001B[0m\u001B[1;33m,\u001B[0m\u001B[1;33m\u001B[0m\u001B[1;33m\u001B[0m\u001B[0m\n",
      "\u001B[1;31mModuleNotFoundError\u001B[0m: No module named 'boruta'"
     ]
    }
   ],
   "source": [
    "from boruta import BorutaPy\n",
    "\n",
    "feat_selector = BorutaPy(RandomForestClassifier(max_depth=13),\n",
    "                         n_estimators='auto',\n",
    "                         verbose=0,\n",
    "                         max_iter=100,\n",
    "                         random_state=42)\n",
    "\n",
    "feat_selector.fit_transform(X_train.values, y_train)"
   ]
  },
  {
   "cell_type": "markdown",
   "metadata": {},
   "source": [
    "Let us print redundant pixels as a mask. Does the result looks similar to mine (or to Among us chracters)? "
   ]
  },
  {
   "cell_type": "code",
   "execution_count": null,
   "metadata": {},
   "outputs": [],
   "source": [
    "mask = np.array(feat_selector.support_).reshape(8, 8)\n",
    "plt.imshow(mask);"
   ]
  },
  {
   "cell_type": "markdown",
   "metadata": {
    "pycharm": {
     "name": "#%% md\n"
    }
   },
   "source": [
    "**Всё пиксели в белых областях избыточны. Попробуем их не использовать**"
   ]
  },
  {
   "cell_type": "markdown",
   "metadata": {},
   "source": [
    "At the end let us redo  classification but only with selected features"
   ]
  },
  {
   "cell_type": "markdown",
   "metadata": {
    "pycharm": {
     "name": "#%% md\n"
    }
   },
   "source": [
    "Все избыточные признаки(features) имеют False результаты в BorutaPy. Оставим только те признаки, которые имеют значение True"
   ]
  },
  {
   "cell_type": "code",
   "execution_count": null,
   "metadata": {
    "pycharm": {
     "name": "#%%\n"
    }
   },
   "outputs": [],
   "source": [
    "df = pd.DataFrame(feat_selector.support_)\n",
    "selected_features = df.index[df[0] == True].tolist()"
   ]
  },
  {
   "cell_type": "markdown",
   "metadata": {
    "pycharm": {
     "name": "#%% md\n"
    }
   },
   "source": [
    "Создадим вспомогательную функцию, которая их X данных делает фрагмент (slice) только с \"полезные\" признаками."
   ]
  },
  {
   "cell_type": "code",
   "execution_count": null,
   "metadata": {
    "pycharm": {
     "name": "#%%\n"
    }
   },
   "outputs": [],
   "source": [
    "def prep_filter_data(x_data):\n",
    "    return prep_data(x_data.iloc[:, selected_features])"
   ]
  },
  {
   "cell_type": "markdown",
   "metadata": {
    "pycharm": {
     "name": "#%% md\n"
    }
   },
   "source": [
    "Посмотрим на размерность данных"
   ]
  },
  {
   "cell_type": "code",
   "execution_count": null,
   "metadata": {
    "pycharm": {
     "name": "#%%\n"
    }
   },
   "outputs": [],
   "source": [
    "X_train.shape, prep_data(X_train).shape, prep_filter_data(X_train).shape, len(selected_features)"
   ]
  },
  {
   "cell_type": "markdown",
   "metadata": {
    "pycharm": {
     "name": "#%% md\n"
    }
   },
   "source": [
    "Форма X_train имеет 64 признака, после добавления теневых признаков (shadow features) это количество увеличивается вдвое - до 128 признаков. После BorutaPy мы выяснили 31 \"полезный\" признак и добавили столько же теневых - в результате у нас данных становится 62. Меньше в 2 раза, чем было. Посмотрим, изменилась ли Accuracy."
   ]
  },
  {
   "cell_type": "code",
   "execution_count": null,
   "metadata": {},
   "outputs": [],
   "source": [
    "clf = RandomForestClassifier(max_depth=13, random_state=1)\n",
    "\n",
    "clf.fit(prep_filter_data(X_train), y_train)\n",
    "acc = accuracy_score(y_val, clf.predict(prep_filter_data(X_val)), normalize=True)\n",
    "\n",
    "print(acc)"
   ]
  },
  {
   "cell_type": "markdown",
   "metadata": {
    "pycharm": {
     "name": "#%% md\n"
    }
   },
   "source": [
    "Accuracy не уменьшилась, хотя при этом уменьшилось количество входных признаков на **33**, а тестовых данных стало меньше на **12375** (33 x 375)."
   ]
  },
  {
   "cell_type": "code",
   "execution_count": null,
   "metadata": {},
   "outputs": [],
   "source": [
    "assert acc > 0.99"
   ]
  },
  {
   "cell_type": "markdown",
   "metadata": {},
   "source": [
    "# Materials & References"
   ]
  },
  {
   "cell_type": "markdown",
   "metadata": {},
   "source": [
    "1. General article about feature engineering and selection (main reference):\n",
    "https://github.com/Yorko/mlcourse.ai/blob/master/jupyter_english/topic06_features_regression/topic6_feature_engineering_feature_selection.ipynb\n",
    "\n",
    "2. Feature engineering/preprocessing, using scikit-learn API (great code examples, but really brief explanation):    \n",
    "https://scikit-learn.org/stable/modules/preprocessing\n",
    "\n",
    "3. Feature scaling/normalization:     \n",
    "https://towardsdatascience.com/all-about-feature-scaling-bcc0ad75cb35\n",
    "\n",
    "4. Log Transform/power transform:    \n",
    "https://medium.com/@kyawsawhtoon/log-transformation-purpose-and-interpretation-9444b4b049c9\n",
    "\n",
    "6. Missing values preprocessing using scikit-learn API (great code examples, great explanation):    \n",
    "https://scikit-learn.org/stable/modules/impute.html\n",
    "\n",
    "7. Feature selection scikit-learn API (great code examples, great explanation):   \n",
    "https://scikit-learn.org/stable/modules/feature_selection.html\n",
    "\n",
    "8. Melbourne housing dataset source:    \n",
    "https://www.kaggle.com/anthonypino/melbourne-housing-market"
   ]
  }
 ],
 "metadata": {
  "kernelspec": {
   "display_name": "Python 3 (ipykernel)",
   "language": "python",
   "name": "python3"
  },
  "language_info": {
   "codemirror_mode": {
    "name": "ipython",
    "version": 3
   },
   "file_extension": ".py",
   "mimetype": "text/x-python",
   "name": "python",
   "nbconvert_exporter": "python",
   "pygments_lexer": "ipython3",
   "version": "3.10.0"
  },
  "toc": {
   "base_numbering": "1",
   "nav_menu": {},
   "number_sections": true,
   "sideBar": true,
   "skip_h1_title": false,
   "title_cell": "Table of Contents",
   "title_sidebar": "Contents",
   "toc_cell": false,
   "toc_position": {
    "height": "calc(100% - 180px)",
    "left": "10px",
    "top": "150px",
    "width": "165px"
   },
   "toc_section_display": true,
   "toc_window_display": true
  }
 },
 "nbformat": 4,
 "nbformat_minor": 4
}